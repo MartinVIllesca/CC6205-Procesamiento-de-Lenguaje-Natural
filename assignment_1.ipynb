{
 "cells": [
  {
   "cell_type": "markdown",
   "metadata": {
    "colab_type": "text",
    "id": "view-in-github"
   },
   "source": [
    "<a href=\"https://colab.research.google.com/github/MartinVIllesca/CC6205-Procesamiento-de-Lenguaje-Natural/blob/master/assignment_1.ipynb\" target=\"_parent\"><img src=\"https://colab.research.google.com/assets/colab-badge.svg\" alt=\"Open In Colab\"/></a>"
   ]
  },
  {
   "cell_type": "markdown",
   "metadata": {
    "ExecuteTime": {
     "end_time": "2020-03-31T13:49:08.174519Z",
     "start_time": "2020-03-31T13:49:08.165989Z"
    },
    "colab_type": "text",
    "id": "PkfIPpmVXK1J"
   },
   "source": [
    "# Tarea 1 NLP : Competencia de Clasificación de Texto\n",
    "-------------------------------\n"
   ]
  },
  {
   "cell_type": "markdown",
   "metadata": {
    "colab_type": "text",
    "id": "ssXRUJcBXK1L"
   },
   "source": [
    "- **Nombre:** Jou-Hui Ho Ku, Martín Valderrama\n",
    "\n",
    "- **Usuario o nombre de equipo en Codalab:** PibJou\n",
    "\n",
    "\n"
   ]
  },
  {
   "cell_type": "markdown",
   "metadata": {
    "colab_type": "text",
    "id": "nUUQEnHxXK1M"
   },
   "source": [
    "## Objetivo e Instrucciones:\n",
    "\n",
    "### Objetivo\n",
    "\n",
    "Esta tarea consiste en participar en una competencia cuyo objetivo es la clasificación de tweets según su intensidad de emoción. Específicamente: \n",
    "\n",
    "Tendrán 4 datasets de tweets de distintas emociones: `anger`, `fear`, `sadness` y `joy`. Para cada uno de estos datasets, deberán crear un clasificador que indique la intensidad de dicha emoción en sus tweets (`low`, `medium`, `high`)."
   ]
  },
  {
   "cell_type": "markdown",
   "metadata": {
    "colab_type": "text",
    "id": "kVvANhT6XK1N"
   },
   "source": [
    "###  Fecha de Entrega: \n",
    "\n",
    "Por ser anunciada una vez termine el paro. Se publicará la fecha en ucursos."
   ]
  },
  {
   "cell_type": "markdown",
   "metadata": {
    "ExecuteTime": {
     "end_time": "2020-04-07T14:34:38.796217Z",
     "start_time": "2020-04-07T14:34:38.782255Z"
    },
    "colab_type": "text",
    "id": "CG1T7EWnXK1O"
   },
   "source": [
    "### Detalles e instrucciones de la competencia:\n",
    "\n",
    "- La competencia consiste en resolver 4 problemas de clasificación distintos, cada uno de tres clases. Por cada problema deberán crear un clasificador distinto. La evaluación de la competencia se realiza en base a 4 métricas: AUC, Kappa y Accuracy. Los mejores puntajes en cada ítem serán los que ganen.\n",
    "\n",
    "- Para comenzar se les entregará en este notebook el baseline y la estructura del reporte. El baseline es el código que realiza creación de features y clasificación básica. Los puntajes de este serán ocupados como base para la competencia: deben superar sus resultados para ser bien evaluados.  \n",
    "\n",
    "- Para participar, deben registrarse en Codalab y luego ingresar a la competencia usando el siguiente [link]( https://competitions.codalab.org/competitions/24121?secret_key=f5eb2d95-b36e-4aad-8fc5-4d9d77f4e4dc). \n",
    "\n",
    "- **Es requisito entregar el reporte con el código y haber participado en la competencia para ser evaluado.**\n",
    "\n",
    "- Pueden hacer grupos de máximo 2 alumnos. Cada grupo debe tener un nombre de equipo (En codalab, ir a settings y después cambiar Team Name). Solo una persona debe administrar la cuenta del grupo.\n",
    "\n",
    "- En total pueden hacer un **máximo de 4 envíos/submissions** (tanto para equipos como para envíos indivuales).\n",
    "\n",
    "- Hagan varios experimentos haciendo cross-validation o evaluación sobre una sub-partición antes de enviar sus predicciones a Codalab. Asegúrense que la distribución de las clases sea balanceada en las particiones de training y testing. Verificar que el formato de la submission coincida con el de la competencia. De lo contrario, se les será evaluado incorrectamente.\n",
    "\n",
    "- Estar top 5 en alguna métrica equivale a 1 punto extra en la nota final.\n",
    "\n",
    "- No se limiten a los contenidos vistos ni a scikit ni a este baseline. ¡Usen todo su conocimiento e ingenio en mejorar sus sistemas! \n",
    "\n",
    "- Todas las dudas escríbanlas en el hilo de U-cursos de la tarea. Los emails que lleguen al equipo docente serán remitidos a ese medio.\n"
   ]
  },
  {
   "cell_type": "markdown",
   "metadata": {
    "colab_type": "text",
    "id": "vUE0Y0f3XK1P"
   },
   "source": [
    "### Reporte\n",
    "\n",
    "Este debe cumplir la siguiente estructura:\n",
    "\n",
    "1.\t**Introducción**: Presentar brevemente el problema a resolver, los métodos y representaciones utilizadas en el desarrollo de la tarea y conclusiones obtenidas. (0.5 Puntos)\n",
    "2.\t**Representaciones**: Describir los atributos y representaciones usadas como entrada de los clasificadores. Si bien, con Bag of Words (baseline) ya se comienzan a percibir buenos resultados, pueden mejorar su evaluación agregando más atributos y representaciones diseñadas a mano. Mas abajo encontrarán una lista útil de estos que les podrá ser de utilidad. (1.5 puntos)\n",
    "3.\t**Algoritmos**: Describir brevemente los algoritmos de clasificación usados. (0.5 puntos)\n",
    "4.\t**Métricas de evaluación**: Describir brevemente las métricas utilizadas en la evaluación indicando que miden y su interpretación. (0.5 puntos)\n",
    "5.\t**Experimentos**: Reportar todos sus experimentos. Comparar los resultados obtenidos utilizando diferentes algoritmos y representaciones. Estos experimentos los hacen sobre la sub-partición de evaluación que deben crear (o pueden usar cross-validation). Incluyan todo el código de sus experimentos aquí. ¡Es vital haber realizado varios experimentos para sacar una buena nota! (2 puntos)\n",
    "6.\t**Conclusiones**: Discutir resultados, proponer trabajo futuro. (1 punto)"
   ]
  },
  {
   "cell_type": "markdown",
   "metadata": {
    "ExecuteTime": {
     "end_time": "2019-08-21T19:18:43.301002Z",
     "start_time": "2019-08-21T19:18:43.298037Z"
    },
    "colab_type": "text",
    "id": "DuCEFL_aXK1Q"
   },
   "source": [
    "### Baseline\n",
    "\n",
    "Por último, el baseline contiene un código básico que:\n",
    "\n",
    "- Obtiene los dataset.\n",
    "- Divide los datasets en train (entrenamiento y prueba) y target set (el que clasificar para subir a la competencia).\n",
    "- Crea un Pipeline que: \n",
    "    - Crea features personalizadas.\n",
    "    - Transforma los dataset a bag of words (BoW).  \n",
    "    - Entrena un clasificador usando cada train set.\n",
    "- Clasifica y evalua el sistema creado usando el test set.\n",
    "- Clasifica el target set.\n",
    "- Genera una submission con el target en formato zip en el directorio en donde se está ejecutando el notebook. \n",
    "\n",
    "\n",
    "Algunas pistas sobre como mejorar el rendimiento de los sistemas que creen. (Esto tendrá mas sentido cuando vean el código)\n",
    "\n",
    "- **Vectorizador**: investigar los modulos de `nltk`, en particular, `TweetTokenizer`, `mark_negation` para reemplazar los tokenizadores. También, el parámetro `ngram_range` (Ojo que el clf naive bayes no debería usarse con n-gramas, ya que rompe el supuesto de independencia). Además, implementar los atributos que crean útiles desde el listado del el enunciado. Investigar también el vectorizador tf-idf.\n",
    "\n",
    "- **Clasificador**: investigar otros clasificadores mas efectivos que naive bayes. Estos deben poder retornar la probabilidad de pertenecia de las clases (ie: implementar la función `predict_proba`).\n",
    "\n",
    "- **Features**: Recuerden que pueden implementar todas las features que se les ocurra! Aquí les adjuntamos algunos ejemplos:\n",
    "    -\tWord n-grams.\n",
    "    -\tCharacter n-grams. \n",
    "    -\tPart-of-speech tags.\n",
    "    -\tSentiment Lexicons (Lexicon = A set of words with a label or associated value.).\n",
    "        - Count the number of positive and negative words within a sentence.\n",
    "        - If the lexicon has associated intensity of feeling (for example in a decimal), then take the average of the intensity of the sentence according to the feeling, the sum, etc.\n",
    "        -\tA good lexicon of sentiment: [Bing Liu](http://www.cs.uic.edu/~liub/FBS/opinion-lexicon-English.rar) \n",
    "        - A reference with a lot of [sentiment lexicons](https://medium.com/@datamonsters/sentiment-analysis-tools-overview-part-1-positive-and-negative-words-databases-ae35431a470c). \n",
    "    -\tThe number of elongated words (words with one character repeated more than two times).\n",
    "    -\tThe number of words with all characters in uppercase.\n",
    "    -\tThe presence and the number of positive or negative emoticons.\n",
    "    -\tThe number of individual negations.\n",
    "    -\tThe number of contiguous sequences of dots, question marks and exclamation marks.\n",
    "    -\tWord Embeddings: Here are some good ideas on how to use them.\n",
    "    https://stats.stackexchange.com/questions/221715/apply-word-embeddings-to-entire-document-to-get-a-feature-vector\n",
    "\n",
    "- **Reducción de dimensionalidad**: También puede serles de ayuda. Referencias [aquí](https://scikit-learn.org/stable/modules/unsupervised_reduction.html).\n",
    "\n",
    "- Por último, pueden encontrar mas referencias de cómo mejorar sus features, el vectorizador y el clasificador [aquí](https://affectivetweets.cms.waikato.ac.nz/benchmark/)."
   ]
  },
  {
   "cell_type": "markdown",
   "metadata": {
    "ExecuteTime": {
     "end_time": "2020-04-07T15:25:19.677190Z",
     "start_time": "2020-04-07T15:25:19.671206Z"
    },
    "colab_type": "text",
    "id": "DdS9xmSWXK1Q"
   },
   "source": [
    "(Pueden eliminar cualquier celda con instrucciones...)\n",
    "\n",
    "**Importante**: Recuerden poner su nombre y el de su usuario o de equipo (en caso de que aplique) tanto en el reporte. NO serán evaluados Notebooks sin nombre."
   ]
  },
  {
   "cell_type": "markdown",
   "metadata": {
    "colab_type": "text",
    "id": "GFhbF8WvXK1R"
   },
   "source": [
    "----------------------------------------\n",
    "\n",
    "(borrar este bloque despues)\n",
    "1.\t**Introducción**: Presentar brevemente el problema a resolver, los métodos y representaciones utilizadas en el desarrollo de la tarea y conclusiones obtenidas. (0.5 Puntos)\n",
    "2.\t**Representaciones**: Describir los atributos y representaciones usadas como entrada de los clasificadores. Si bien, con Bag of Words (baseline) ya se comienzan a percibir buenos resultados, pueden mejorar su evaluación agregando más atributos y representaciones diseñadas a mano. Mas abajo encontrarán una lista útil de estos que les podrá ser de utilidad. (1.5 puntos)\n",
    "3.\t**Algoritmos**: Describir brevemente los algoritmos de clasificación usados. (0.5 puntos)\n",
    "4.\t**Métricas de evaluación**: Describir brevemente las métricas utilizadas en la evaluación indicando que miden y su interpretación. (0.5 puntos)\n",
    "5.\t**Experimentos**: Reportar todos sus experimentos. Comparar los resultados obtenidos utilizando diferentes algoritmos y representaciones. Estos experimentos los hacen sobre la sub-partición de evaluación que deben crear (o pueden usar cross-validation). Incluyan todo el código de sus experimentos aquí. ¡Es vital haber realizado varios experimentos para sacar una buena nota! (2 puntos)\n",
    "6.\t**Conclusiones**: Discutir resultados, proponer trabajo futuro. (1 punto)"
   ]
  },
  {
   "cell_type": "markdown",
   "metadata": {
    "ExecuteTime": {
     "end_time": "2020-03-31T13:34:25.683540Z",
     "start_time": "2020-03-31T13:34:25.673430Z"
    },
    "colab_type": "text",
    "id": "pmH9j-eYXK1S"
   },
   "source": [
    "## 1. Introducción"
   ]
  },
  {
   "cell_type": "markdown",
   "metadata": {
    "colab_type": "text",
    "id": "f_d8xLu1XK1T"
   },
   "source": [
    "El problema a abordar en este trabajo es el análisis de sentimientos de tweets. Se tiene un dataset de tweets clasificados por sentimiento (joy, fear, sadness, anger), y en cada sentimiento, a su vez, los tweets se clasifican por intensidad (alto, medio o bajo).\n",
    "\n",
    "Para resolver este problema, se utilizan distintas representaciones de los datos, tales como Bag Of Words, la representación Tf-Idf, Word Embeddings, y también se extraen características relevantes de los textos, como por ejemplo la cantidad de signos de exclamación que contengan.\n",
    "\n",
    "Una vez convertidos los textos a su representación, se utilizan métodos de NaiveBayes y SVM para clasificar el nivel de sentimiento en cada clase.\n",
    "\n",
    "A partir de este trabajo, se concluye que...."
   ]
  },
  {
   "cell_type": "markdown",
   "metadata": {
    "ExecuteTime": {
     "end_time": "2020-03-31T13:47:13.474238Z",
     "start_time": "2020-03-31T13:47:13.454068Z"
    },
    "colab_type": "text",
    "id": "NJ2NBZFSXK1U"
   },
   "source": [
    "## 2. Representaciones"
   ]
  },
  {
   "cell_type": "markdown",
   "metadata": {
    "ExecuteTime": {
     "end_time": "2020-03-31T13:47:17.719268Z",
     "start_time": "2020-03-31T13:47:17.709207Z"
    },
    "colab_type": "text",
    "id": "Bl1LMOz6XK1W"
   },
   "source": [
    "Se implementan distintas representaciones de los textos, mediante las siguientes clases:\n",
    "\n",
    "   \n",
    "- **CountVectorizer** \\\n",
    "    Consiste en una representación de los textos en Bag of Words.\n",
    "    \n",
    "- **TfidfVectorizer**\\\n",
    "    Calcula la matriz Tf-Idf asociada al dataset. El algoritmo funciona sobre un tokenizer el cual por defecto se realiza separando solamente las palabras del tweet en este caso. Se puede utilizar con distintos Tokenizers, en esta tarea se prueba un caso con el TweetTokenizer de la librería nltk.\n",
    "    \n",
    "- **TweetTokenizer**\\\n",
    "    Es un tokenizer pre-definido de la librería nltk, el cual reconoce carácteres especiales de los mensajes de Twitter como emojis en símbolos o puntutación, incluso hashtags.\n",
    "    \n",
    "\n",
    "- **CharCountTransformer**: \\\n",
    "    Esta representación considera una serie de conteos \"manuales\" implementados a continuación. Esta incluye:\n",
    "    - **Caracteres relevantes dentro del texto**, tales como:\n",
    "        - Cantidad de signos de exclamación\n",
    "        - Cantidad de signos de interrogación\n",
    "        - Cantidad de letras repetidas más de tres veces\n",
    "        - Cantidad de letras en mayúscula\n",
    "        - Cantidad de puntos seguidos \n",
    "    - Se utiliza la librería _emoji_ para codificar los emojis de los tweets, y la librería _emosent_ para extraer un sentiment score del emoji, además de la polaridad del sentimiento. Cabe destacar que existen algunos emojis que no están en la librería _emosent_, por lo que fue necesario evaluar su polaridad bajo inspección, y evaluar si el nombre del emoji contiene palabras positivas o negativas.\n",
    "    - Además, se marcan previamente las palabras que siguen a una negación, concatenando el string \\_NEG luego de la palabra, para que sea considerada diferente a la misma palabra, pero en un contexto positivo.\n",
    " \n",
    "- **Doc2VecTransformer** \\\n",
    "    Word embeddings con el modelo _glove_twitter_ ya entrenado. Se considera el máximo de cada tweet, considerando que se quiere realizar un análisis de sentimientos, y otras operaciones como suma o promedio podrían causar una pérdida de información.\n",
    "    \n",
    "- **LiuFeatureExtractor**\\\n",
    "    Extrae la cantidad de palabras positivas y palabras negativas, usando el dataset de Bing Liu.\n",
    "\n",
    "- **VaderFeatureExtractor**\\\n",
    "    https://github.com/cjhutto/vaderSentiment"
   ]
  },
  {
   "cell_type": "markdown",
   "metadata": {
    "colab_type": "text",
    "id": "_H6tUAGPXK1Y"
   },
   "source": [
    "## 3. Algoritmos"
   ]
  },
  {
   "cell_type": "markdown",
   "metadata": {
    "colab_type": "text",
    "id": "P1P0yclvXK1Z"
   },
   "source": [
    "Los algoritmos utilizados en este trabajo son:\n",
    "\n",
    "- **Naive Bayes**\n",
    "\n",
    "- **SVM**"
   ]
  },
  {
   "cell_type": "markdown",
   "metadata": {
    "ExecuteTime": {
     "end_time": "2020-03-31T13:47:52.064631Z",
     "start_time": "2020-03-31T13:47:52.044451Z"
    },
    "colab_type": "text",
    "id": "KkGR_Y9qXK1a"
   },
   "source": [
    "## 4. Métricas de Evaluación"
   ]
  },
  {
   "cell_type": "markdown",
   "metadata": {
    "colab_type": "text",
    "id": "lvQGaiqaXK1b"
   },
   "source": [
    "- AUC: es una métrica que mide la capacidad del modelo de distinguir entre clases variando el threshold de separación, es decir, la probabilidad con la que se considera la pertenencia a una clase. En la imagen inferior obtenida de [towardsdatascience.com](https://towardsdatascience.com/understanding-auc-roc-curve-68b2303cc9c5), se muestra una separación entre las distribuciones de probabilidad de cada clase y la ROC resultante al mover el threshold.\n",
    "\n",
    "<img src=\"./img_asg1/roc_sep_td.png\" alt=\"Drawing\" style=\"width: 450px;\" align=\"left\"/><img src=\"./img_asg1/roc_td.png\" alt=\"Drawing\" style=\"width: 210px;\" align=\"left\"/>\n",
    "\n",
    "En este caso, las distribuciones de probabilidad son dadas por el modelo, y el threshold de separación es el que se varía para obtener la ROC y su consecuente AUC. Si el threshold se mueve, es un desplazamiento en la curva ROC. Si el threshold se mueve hacia la izquierda, se aumenta en TPR y FPR, es decir, el método detecta más fácilmente los positivos (o toma todos como positivos) pero dejando pasar muchos falsos positivos, ya que se disminuye la exigencia para ser positivo, resultando en subir en la curva ROC. Si se aumenta la exigencia para detectar reales positivos, se desplaza bajando por la ROC, teniendo menor tasa de reales positivos y por lo tanto, también de falsos positivos.\n",
    "\n",
    "En este caso, se tiene que la AUC es 0.7, es decir, el modelo tiene un 70% de probabilidad de distinguir entre reales positivos y falsos positivos por clase. En el caso de multiclases, se realiza una heurística de uno versus todos para calcular las probabilidades.\n",
    "\n",
    "En este caso, para el cálculo del modelo, se realiza un promedio ponderado de las AUC para las clases bajo, medio y alto. Luego, se realiza un promedio de los AUC entre las clases de sentimientos.\n",
    "    \n",
    "- Kappa: El coeficiente Cohen's Kappa es un estadístico de la capacidad del modelo de \"estar de acuerdo\" con otro anotador o clasificador, en este caso, con el anotador de los labels que consideramos reales. Para calcular el coeficiente de Kappa, se ve la matriz de confusión y se realiza un cálculo de haber clasificado correctamente solamente por coincidencia. Para ello se calcula el accuracy del modelo, es decir, la suma de la diagonal sobre la traza de la matriz de confusión, y se le resta las correctas por coincidencia. Este último, según el canal [MINT TMS Tutorials by Christian Hollmann](https://youtu.be/fOR_8gkU3UE), se calcula como la cantidad de positivos según el modelo, sobre el total de muestras, por la cantidad de positivos según nuestros labels, sobre el total de muestras; más la cantidad de negativos según el modelo sobre el total de muestras, por la cantidad de negativos según los labels sobre el total de muestras. El coeficiente de Kappa se calcula como:\n",
    "\n",
    "$$K = \\frac{0A - AC}{1 - AC}$$\n",
    "\n",
    "Donde $0A$ es el accuracy obtenido, y $AC$ es la probabilida de haberle acertado por coincidencia. Un coeficiente de Cohen Kappa superior a 0.8 indica un buen rendimiento del modelo sobre haberle acertado por coincidencia. Mientras que un coeficiente inferior o negativo, indica un mal rendimiento del modelo.\n",
    "\n",
    "- Accuracy: El accuracy es el coeficiente de evaluación más usado para evaluar a un modelo. Con él se calcula el nivel de acuerdo que tiene el modelo con los labels considerados reales, se calcula como la suma de la diagonal de la matriz de confusión sobre el total de las muestras consideradas en la evaluación. Mientras más cercano a 1 quire decir que el modelo se parece más a los labels considerados reales, mientras que un accuracy 0, quiere decir que el modelo no pudo predecir correctamente ninguna etiqueta.\n"
   ]
  },
  {
   "cell_type": "markdown",
   "metadata": {
    "colab_type": "text",
    "id": "dBu_sP0KXK1b"
   },
   "source": [
    "## 5. Experimentos"
   ]
  },
  {
   "cell_type": "markdown",
   "metadata": {
    "colab_type": "text",
    "id": "IGBQNys8XK1c"
   },
   "source": [
    "..."
   ]
  },
  {
   "cell_type": "markdown",
   "metadata": {
    "ExecuteTime": {
     "end_time": "2020-03-31T13:31:40.023344Z",
     "start_time": "2020-03-31T13:31:40.003541Z"
    },
    "colab_type": "text",
    "id": "ul8vukH2XK1d"
   },
   "source": [
    "### Importar librerías y utiles"
   ]
  },
  {
   "cell_type": "code",
   "execution_count": 1,
   "metadata": {
    "ExecuteTime": {
     "end_time": "2020-04-07T15:44:20.587160Z",
     "start_time": "2020-04-07T15:44:19.319386Z"
    },
    "colab": {},
    "colab_type": "code",
    "id": "68Lt-v5IXK1e"
   },
   "outputs": [],
   "source": [
    "import pandas as pd\n",
    "import os\n",
    "import numpy as np\n",
    "import shutil\n",
    "\n",
    "from sklearn.feature_extraction.text import CountVectorizer, TfidfVectorizer\n",
    "from sklearn.naive_bayes import MultinomialNB\n",
    "from sklearn.svm import SVC\n",
    "from sklearn.linear_model import LogisticRegression\n",
    "from sklearn.neural_network import MLPClassifier\n",
    "from sklearn.pipeline import Pipeline, FeatureUnion\n",
    "from sklearn.metrics import confusion_matrix, cohen_kappa_score, classification_report, accuracy_score, roc_auc_score\n",
    "from sklearn.model_selection import train_test_split\n",
    "from sklearn.base import BaseEstimator, TransformerMixin\n",
    "from nltk.tokenize import TweetTokenizer\n",
    "from nltk.sentiment.util import mark_negation\n",
    "from nltk.sentiment import SentimentIntensityAnalyzer\n",
    "from nltk.corpus import opinion_lexicon, stopwords\n",
    "from nltk.stem import SnowballStemmer, WordNetLemmatizer\n",
    "\n",
    "# !pip install -U emojis\n",
    "# !pip install emosent-py\n",
    "# !pip install emoji --upgrade\n",
    "import emoji\n",
    "import emojis\n",
    "from emosent import get_emoji_sentiment_rank\n",
    "\n",
    "import gensim.downloader as api\n",
    "import string\n",
    "\n",
    "from collections import Counter"
   ]
  },
  {
   "cell_type": "code",
   "execution_count": 2,
   "metadata": {},
   "outputs": [
    {
     "name": "stderr",
     "output_type": "stream",
     "text": [
      "[nltk_data] Downloading package wordnet to /home/martin/nltk_data...\n",
      "[nltk_data]   Package wordnet is already up-to-date!\n"
     ]
    },
    {
     "data": {
      "text/plain": [
       "True"
      ]
     },
     "execution_count": 2,
     "metadata": {},
     "output_type": "execute_result"
    }
   ],
   "source": [
    "import nltk\n",
    "# nltk.download('opinion_lexicon')\n",
    "# nltk.download('vader_lexicon')\n",
    "# nltk.download('stopwords')\n",
    "# nltk.download('punkt')\n",
    "nltk.download('wordnet')"
   ]
  },
  {
   "cell_type": "code",
   "execution_count": 3,
   "metadata": {
    "colab": {},
    "colab_type": "code",
    "id": "mPtqQdif8BC3"
   },
   "outputs": [],
   "source": [
    "# negative_words = pd.read_csv('https://raw.githubusercontent.com/MartinVIllesca/CC6205-Procesamiento-de-Lenguaje-Natural/master/data_t1/opinion-lexicon-English/negative-words.csv',\n",
    "#                              sep='\\n', header=None, error_bad_lines=False)\n",
    "# positive_words = pd.read_csv('https://raw.githubusercontent.com/MartinVIllesca/CC6205-Procesamiento-de-Lenguaje-Natural/master/data_t1/opinion-lexicon-English/positive-words.csv',\n",
    "#                              sep='\\n', header=None, error_bad_lines=False)\n",
    "\n",
    "positive_words = np.hstack((list(positive_words),\n",
    "                            'hugging_face',\n",
    "                            'popcorn'))\n",
    "negative_words = np.hstack((list(negative_words),\n",
    "                            'spider',\n",
    "                            'face_with_head-bandage',\n",
    "                            'upside-down_face',\n",
    "                            'face_with_rolling_eyes',\n",
    "                            'zipper-mouth_face',\n",
    "                            'slightly_frowning_face'))"
   ]
  },
  {
   "cell_type": "code",
   "execution_count": 4,
   "metadata": {},
   "outputs": [],
   "source": [
    "# limpiar puntuaciones y separar por tokens.\n",
    "punctuation = string.punctuation + \"«»“”‘’…—\"\n",
    "stopwords = pd.read_csv(\n",
    "    'https://raw.githubusercontent.com/Alir3z4/stop-words/master/english.txt'\n",
    ").values\n",
    "stopwords = Counter(stopwords.flatten().tolist())"
   ]
  },
  {
   "cell_type": "code",
   "execution_count": 5,
   "metadata": {},
   "outputs": [
    {
     "name": "stderr",
     "output_type": "stream",
     "text": [
      "19638 | INFO | loading projection weights from /home/martin/gensim-data/glove-twitter-25/glove-twitter-25.gz\n",
      "19638 | INFO | loaded (1193514, 25) matrix from /home/martin/gensim-data/glove-twitter-25/glove-twitter-25.gz\n"
     ]
    }
   ],
   "source": [
    "# Doc2Vec Model\n",
    "glove_twitter = api.load(\"glove-twitter-25\")  # download the model and return as object ready for use\n",
    "# glove_twitter.most_similar(\"cat\")\n",
    "\n",
    "stemmer = SnowballStemmer('english')\n",
    "lemmatizer = WordNetLemmatizer() "
   ]
  },
  {
   "cell_type": "markdown",
   "metadata": {
    "colab_type": "text",
    "id": "sib6XRh6XK1u"
   },
   "source": [
    "### Definir métodos de evaluación\n",
    "\n",
    "Estas funciones están a cargo de evaluar los resultados de la tarea. No deberían cambiarlas.\n"
   ]
  },
  {
   "cell_type": "code",
   "execution_count": 6,
   "metadata": {
    "ExecuteTime": {
     "end_time": "2020-04-07T15:44:20.604066Z",
     "start_time": "2020-04-07T15:44:20.589106Z"
    },
    "colab": {},
    "colab_type": "code",
    "id": "N4WVlJ3UXK1v"
   },
   "outputs": [],
   "source": [
    "def auc_score(test_set, predicted_set):\n",
    "    high_predicted = np.array([prediction[2] for prediction in predicted_set])\n",
    "    medium_predicted = np.array(\n",
    "        [prediction[1] for prediction in predicted_set])\n",
    "    low_predicted = np.array([prediction[0] for prediction in predicted_set])\n",
    "    high_test = np.where(test_set == 'high', 1.0, 0.0)\n",
    "    medium_test = np.where(test_set == 'medium', 1.0, 0.0)\n",
    "    low_test = np.where(test_set == 'low', 1.0, 0.0)\n",
    "    auc_high = roc_auc_score(high_test, high_predicted)\n",
    "    auc_med = roc_auc_score(medium_test, medium_predicted)\n",
    "    auc_low = roc_auc_score(low_test, low_predicted)\n",
    "    auc_w = (low_test.sum() * auc_low + medium_test.sum() * auc_med +\n",
    "             high_test.sum() * auc_high) / (\n",
    "                 low_test.sum() + medium_test.sum() + high_test.sum())\n",
    "    return auc_w\n",
    "\n",
    "\n",
    "def evaluate(predicted_probabilities, y_test, labels, dataset_name):\n",
    "    # Importante: al transformar los arreglos de probabilidad a clases,\n",
    "    # entregar el arreglo de clases aprendido por el clasificador.\n",
    "    # (que comunmente, es distinto a ['low', 'medium', 'high'])\n",
    "    predicted_labels = [\n",
    "        labels[np.argmax(item)] for item in predicted_probabilities\n",
    "    ]\n",
    "    print('Confusion Matrix for {}:\\n'.format(dataset_name))\n",
    "    print(\n",
    "        confusion_matrix(y_test,\n",
    "                         predicted_labels,\n",
    "                         labels=['low', 'medium', 'high']))\n",
    "\n",
    "#     print('\\nClassification Report:\\n')\n",
    "#     print(\n",
    "#         classification_report(y_test,\n",
    "#                               predicted_labels,\n",
    "#                               labels=['low', 'medium', 'high']))\n",
    "    # Reorder predicted probabilities array.\n",
    "    labels = labels.tolist()\n",
    "    predicted_probabilities = predicted_probabilities[:, [\n",
    "        labels.index('low'),\n",
    "        labels.index('medium'),\n",
    "        labels.index('high')\n",
    "    ]]\n",
    "    auc = round(auc_score(y_test, predicted_probabilities), 3)\n",
    "    print(\"Scores:\\n\\nAUC: \", auc, end='\\t')\n",
    "    kappa = round(cohen_kappa_score(y_test, predicted_labels), 3)\n",
    "    print(\"Kappa:\", kappa, end='\\t')\n",
    "    accuracy = round(accuracy_score(y_test, predicted_labels), 3)\n",
    "    print(\"Accuracy:\", accuracy)\n",
    "    print('------------------------------------------------------\\n')\n",
    "    return np.array([auc, kappa, accuracy])"
   ]
  },
  {
   "cell_type": "markdown",
   "metadata": {
    "colab_type": "text",
    "id": "C622AbJeXK1z"
   },
   "source": [
    "### Datos\n",
    "\n",
    "Obtener los datasets desde el github del curso"
   ]
  },
  {
   "cell_type": "code",
   "execution_count": 127,
   "metadata": {
    "ExecuteTime": {
     "end_time": "2020-04-07T15:44:21.068137Z",
     "start_time": "2020-04-07T15:44:20.606061Z"
    },
    "colab": {},
    "colab_type": "code",
    "id": "rne8BE61XK10"
   },
   "outputs": [],
   "source": [
    "# Datasets de entrenamiento.\n",
    "train = {\n",
    "    'anger': pd.read_csv('https://raw.githubusercontent.com/dccuchile/CC6205/master/assignments/assignment_1/data/train/anger-train.txt', sep='\\t', names=['id', 'tweet', 'class', 'sentiment_intensity']),\n",
    "    'fear': pd.read_csv('https://raw.githubusercontent.com/dccuchile/CC6205/master/assignments/assignment_1/data/train/fear-train.txt', sep='\\t', names=['id', 'tweet', 'class', 'sentiment_intensity']),\n",
    "    'joy': pd.read_csv('https://raw.githubusercontent.com/dccuchile/CC6205/master/assignments/assignment_1/data/train/joy-train.txt', sep='\\t', names=['id', 'tweet', 'class', 'sentiment_intensity']),\n",
    "    'sadness': pd.read_csv('https://raw.githubusercontent.com/dccuchile/CC6205/master/assignments/assignment_1/data/train/sadness-train.txt', sep='\\t', names=['id', 'tweet', 'class', 'sentiment_intensity'])\n",
    "}\n",
    "# Datasets que deberán predecir para la competencia.\n",
    "target = {\n",
    "    'anger': pd.read_csv('https://raw.githubusercontent.com/dccuchile/CC6205/master/assignments/assignment_1/data/target/anger-target.txt', sep='\\t', names=['id', 'tweet', 'class', 'sentiment_intensity'], na_values=['NONE']),\n",
    "    'fear': pd.read_csv('https://raw.githubusercontent.com/dccuchile/CC6205/master/assignments/assignment_1/data/target/fear-target.txt', sep='\\t', names=['id', 'tweet', 'class', 'sentiment_intensity'], na_values=['NONE']),\n",
    "    'joy': pd.read_csv('https://raw.githubusercontent.com/dccuchile/CC6205/master/assignments/assignment_1/data/target/joy-target.txt', sep='\\t', names=['id', 'tweet', 'class', 'sentiment_intensity'], na_values=['NONE']),\n",
    "    'sadness': pd.read_csv('https://raw.githubusercontent.com/dccuchile/CC6205/master/assignments/assignment_1/data/target/sadness-target.txt', sep='\\t', names=['id', 'tweet', 'class', 'sentiment_intensity'], na_values=['NONE'])\n",
    "}"
   ]
  },
  {
   "cell_type": "code",
   "execution_count": 128,
   "metadata": {
    "ExecuteTime": {
     "end_time": "2020-04-07T15:44:21.088707Z",
     "start_time": "2020-04-07T15:44:21.069757Z"
    },
    "colab": {
     "base_uri": "https://localhost:8080/",
     "height": 359
    },
    "colab_type": "code",
    "id": "X5x06HPdXK14",
    "outputId": "bfbf69ca-c292-4998-f5c3-85c92da0c52f"
   },
   "outputs": [
    {
     "data": {
      "text/html": [
       "<div>\n",
       "<style scoped>\n",
       "    .dataframe tbody tr th:only-of-type {\n",
       "        vertical-align: middle;\n",
       "    }\n",
       "\n",
       "    .dataframe tbody tr th {\n",
       "        vertical-align: top;\n",
       "    }\n",
       "\n",
       "    .dataframe thead th {\n",
       "        text-align: right;\n",
       "    }\n",
       "</style>\n",
       "<table border=\"1\" class=\"dataframe\">\n",
       "  <thead>\n",
       "    <tr style=\"text-align: right;\">\n",
       "      <th></th>\n",
       "      <th>id</th>\n",
       "      <th>tweet</th>\n",
       "      <th>class</th>\n",
       "      <th>sentiment_intensity</th>\n",
       "    </tr>\n",
       "  </thead>\n",
       "  <tbody>\n",
       "    <tr>\n",
       "      <th>711</th>\n",
       "      <td>30711</td>\n",
       "      <td>god, Facebook's design has started to remind m...</td>\n",
       "      <td>joy</td>\n",
       "      <td>low</td>\n",
       "    </tr>\n",
       "    <tr>\n",
       "      <th>329</th>\n",
       "      <td>30329</td>\n",
       "      <td>Punchline king is back! @Paedeezy 🔥🔥🔥🔥🔥🔥🔥💯💯💯 #...</td>\n",
       "      <td>joy</td>\n",
       "      <td>medium</td>\n",
       "    </tr>\n",
       "    <tr>\n",
       "      <th>830</th>\n",
       "      <td>30830</td>\n",
       "      <td>If any trump supporters and Hillary haters wan...</td>\n",
       "      <td>joy</td>\n",
       "      <td>low</td>\n",
       "    </tr>\n",
       "    <tr>\n",
       "      <th>175</th>\n",
       "      <td>30175</td>\n",
       "      <td>There is something v satisfying about  opening...</td>\n",
       "      <td>joy</td>\n",
       "      <td>high</td>\n",
       "    </tr>\n",
       "    <tr>\n",
       "      <th>502</th>\n",
       "      <td>30502</td>\n",
       "      <td>i'm doing laundry and watching that 70's show ...</td>\n",
       "      <td>joy</td>\n",
       "      <td>medium</td>\n",
       "    </tr>\n",
       "    <tr>\n",
       "      <th>523</th>\n",
       "      <td>30523</td>\n",
       "      <td>I might not pay for my own health insurance bu...</td>\n",
       "      <td>joy</td>\n",
       "      <td>medium</td>\n",
       "    </tr>\n",
       "    <tr>\n",
       "      <th>877</th>\n",
       "      <td>30877</td>\n",
       "      <td>@airtelindia have some issues with my broadban...</td>\n",
       "      <td>joy</td>\n",
       "      <td>medium</td>\n",
       "    </tr>\n",
       "    <tr>\n",
       "      <th>353</th>\n",
       "      <td>30353</td>\n",
       "      <td>Watch this amazing live.ly broadcast by @jared...</td>\n",
       "      <td>joy</td>\n",
       "      <td>medium</td>\n",
       "    </tr>\n",
       "    <tr>\n",
       "      <th>147</th>\n",
       "      <td>30147</td>\n",
       "      <td>@Norn_IronMaiden @forest_fr1ends It's hilarious</td>\n",
       "      <td>joy</td>\n",
       "      <td>high</td>\n",
       "    </tr>\n",
       "    <tr>\n",
       "      <th>78</th>\n",
       "      <td>30078</td>\n",
       "      <td>#BridgetJonesBaby is the best thing I've seen ...</td>\n",
       "      <td>joy</td>\n",
       "      <td>high</td>\n",
       "    </tr>\n",
       "  </tbody>\n",
       "</table>\n",
       "</div>"
      ],
      "text/plain": [
       "        id                                              tweet class  \\\n",
       "711  30711  god, Facebook's design has started to remind m...   joy   \n",
       "329  30329  Punchline king is back! @Paedeezy 🔥🔥🔥🔥🔥🔥🔥💯💯💯 #...   joy   \n",
       "830  30830  If any trump supporters and Hillary haters wan...   joy   \n",
       "175  30175  There is something v satisfying about  opening...   joy   \n",
       "502  30502  i'm doing laundry and watching that 70's show ...   joy   \n",
       "523  30523  I might not pay for my own health insurance bu...   joy   \n",
       "877  30877  @airtelindia have some issues with my broadban...   joy   \n",
       "353  30353  Watch this amazing live.ly broadcast by @jared...   joy   \n",
       "147  30147    @Norn_IronMaiden @forest_fr1ends It's hilarious   joy   \n",
       "78   30078  #BridgetJonesBaby is the best thing I've seen ...   joy   \n",
       "\n",
       "    sentiment_intensity  \n",
       "711                 low  \n",
       "329              medium  \n",
       "830                 low  \n",
       "175                high  \n",
       "502              medium  \n",
       "523              medium  \n",
       "877              medium  \n",
       "353              medium  \n",
       "147                high  \n",
       "78                 high  "
      ]
     },
     "execution_count": 128,
     "metadata": {},
     "output_type": "execute_result"
    }
   ],
   "source": [
    "# Ejemplo de algunas filas aleatorias:\n",
    "train['joy'].sample(10)"
   ]
  },
  {
   "cell_type": "markdown",
   "metadata": {
    "colab_type": "text",
    "id": "oBfMKfpPXK17"
   },
   "source": [
    "### Analizar los datos \n",
    "\n",
    "Imprimir la cantidad de tweets de cada dataset, según su intensidad de sentimiento. Noten que las clases están desbalanceadas. "
   ]
  },
  {
   "cell_type": "code",
   "execution_count": 129,
   "metadata": {
    "ExecuteTime": {
     "end_time": "2020-04-07T15:44:21.117633Z",
     "start_time": "2020-04-07T15:44:21.090703Z"
    },
    "colab": {
     "base_uri": "https://localhost:8080/",
     "height": 561
    },
    "colab_type": "code",
    "id": "ZNibpIBYXK18",
    "outputId": "fdf38c5b-34d5-43fe-848a-2fc549353d2a"
   },
   "outputs": [
    {
     "name": "stdout",
     "output_type": "stream",
     "text": [
      "anger \n",
      "                       id  tweet  class\n",
      "sentiment_intensity                   \n",
      "high                 163    163    163\n",
      "low                  161    161    161\n",
      "medium               617    617    617 \n",
      "---------------------------------------\n",
      "\n",
      "fear \n",
      "                       id  tweet  class\n",
      "sentiment_intensity                   \n",
      "high                 270    270    270\n",
      "low                  288    288    288\n",
      "medium               699    699    699 \n",
      "---------------------------------------\n",
      "\n",
      "joy \n",
      "                       id  tweet  class\n",
      "sentiment_intensity                   \n",
      "high                 195    195    195\n",
      "low                  219    219    219\n",
      "medium               488    488    488 \n",
      "---------------------------------------\n",
      "\n",
      "sadness \n",
      "                       id  tweet  class\n",
      "sentiment_intensity                   \n",
      "high                 197    197    197\n",
      "low                  210    210    210\n",
      "medium               453    453    453 \n",
      "---------------------------------------\n",
      "\n"
     ]
    }
   ],
   "source": [
    "def get_group_dist(group_name, train):\n",
    "    print(group_name, \"\\n\",\n",
    "          train[group_name].groupby('sentiment_intensity').count(),\n",
    "          '\\n---------------------------------------\\n')\n",
    "for dataset_name in train:\n",
    "    get_group_dist(dataset_name, train)"
   ]
  },
  {
   "cell_type": "markdown",
   "metadata": {
    "colab_type": "text",
    "id": "ZY7M2bd7XK2B"
   },
   "source": [
    "### Oversampling"
   ]
  },
  {
   "cell_type": "code",
   "execution_count": 130,
   "metadata": {
    "colab": {},
    "colab_type": "code",
    "id": "RW6ZJUt8XK2J"
   },
   "outputs": [],
   "source": [
    "# train_data = dict()\n",
    "# for group_name in train.keys():\n",
    "#     df = train[group_name]\n",
    "    \n",
    "#     max_size = df.groupby('sentiment_intensity').count()['class'].max()\n",
    "#     lst = [df]\n",
    "#     for class_index, group in df.groupby('sentiment_intensity'):\n",
    "#         oversampled = group.sample(int((max_size-len(group))/2), replace=True)     \n",
    "#         lst.append(oversampled)\n",
    "#     frame_new = pd.concat(lst)\n",
    "    \n",
    "#     train_data[group_name] = frame_new\n",
    "# train = train_data"
   ]
  },
  {
   "cell_type": "code",
   "execution_count": 131,
   "metadata": {
    "colab": {
     "base_uri": "https://localhost:8080/",
     "height": 561
    },
    "colab_type": "code",
    "id": "dpzXG_tQXK2N",
    "outputId": "b1eef3e7-bcd9-4931-d299-f8eb061e474a"
   },
   "outputs": [
    {
     "name": "stdout",
     "output_type": "stream",
     "text": [
      "anger \n",
      "                       id  tweet  class\n",
      "sentiment_intensity                   \n",
      "high                 163    163    163\n",
      "low                  161    161    161\n",
      "medium               617    617    617 \n",
      "---------------------------------------\n",
      "\n",
      "fear \n",
      "                       id  tweet  class\n",
      "sentiment_intensity                   \n",
      "high                 270    270    270\n",
      "low                  288    288    288\n",
      "medium               699    699    699 \n",
      "---------------------------------------\n",
      "\n",
      "joy \n",
      "                       id  tweet  class\n",
      "sentiment_intensity                   \n",
      "high                 195    195    195\n",
      "low                  219    219    219\n",
      "medium               488    488    488 \n",
      "---------------------------------------\n",
      "\n",
      "sadness \n",
      "                       id  tweet  class\n",
      "sentiment_intensity                   \n",
      "high                 197    197    197\n",
      "low                  210    210    210\n",
      "medium               453    453    453 \n",
      "---------------------------------------\n",
      "\n"
     ]
    }
   ],
   "source": [
    "for dataset_name in train:\n",
    "    get_group_dist(dataset_name, train)"
   ]
  },
  {
   "cell_type": "markdown",
   "metadata": {
    "colab_type": "text",
    "id": "G0DXme6NXK2Q"
   },
   "source": [
    "### Custom Features \n",
    "\n",
    "Para crear features personalizadas implementaremos nuestros propios Transformers (estandar de scikit para crear nuevas features entre otras cosas). Para esto:\n",
    "\n",
    "1. Creamos nuestra clase Transformer extendiendo BaseEstimator y TransformerMixin. En este ejemplo, definiremos `CharsCountTransformer` que cuenta carácteres relevantes ('!', '?', '#') en los tweets.\n",
    "2. Definios una función cómo `get_relevant_chars` que opera por cada tweet y retorna un arreglo.\n",
    "3. Hacemos un override de la función `transform` en donde iteramos por cada tweet, llamamos a la función que hicimos antes y agregamos sus resultados a un arrelo. Finalmente lo retornamos.\n",
    "\n",
    "Esto nos facilitará el trabajo mas adelante. Una Guia completa de las transformaciones predefinidas en scikit pueden encontrarla [aquí](https://scikit-learn.org/stable/data_transforms.html).\n",
    "\n"
   ]
  },
  {
   "cell_type": "code",
   "execution_count": 132,
   "metadata": {},
   "outputs": [],
   "source": [
    "def count_repeated_dots(tweet):\n",
    "        \"\"\"\n",
    "        Count number of contiguous dots.\n",
    "        \"\"\"\n",
    "        counter = 0\n",
    "        prev_is_dot = False\n",
    "        for c in tweet[1:]:\n",
    "            if c == '.':\n",
    "                if prev_is_dot:\n",
    "                    counter += 1\n",
    "                else:\n",
    "                    prev_is_dot = True\n",
    "            else:\n",
    "                prev_is_dot = False\n",
    "        return counter"
   ]
  },
  {
   "cell_type": "code",
   "execution_count": 133,
   "metadata": {
    "ExecuteTime": {
     "end_time": "2020-04-07T15:44:21.128600Z",
     "start_time": "2020-04-07T15:44:21.119624Z"
    },
    "colab": {},
    "colab_type": "code",
    "id": "CrNM4IewXK2R"
   },
   "outputs": [],
   "source": [
    "class CharsCountTransformer(BaseEstimator, TransformerMixin):\n",
    "    \n",
    "    def get_relevant_chars(self, tweet):\n",
    "        num_hashtags = tweet.count('#')\n",
    "        num_exclamations = tweet.count('!')\n",
    "        num_interrogations = tweet.count('?')\n",
    "        num_uppercases = sum(1 for c in tweet if c.isupper())  \n",
    "        num_repeated_chars = self.count_repeated_chars(tweet)\n",
    "        num_repeated_dots = self.count_repeated_dots(tweet)\n",
    "        \n",
    "        return [num_hashtags, num_exclamations, num_interrogations,\n",
    "                num_uppercases, num_repeated_chars, num_repeated_dots]\n",
    "    \n",
    "    def get_emojis(self, tweet):\n",
    "        \"\"\"\n",
    "        Get number, sentiment_score, and polarity of emojis.\n",
    "        \"\"\"\n",
    "        emojis_list = [c for c in tweet if c in emoji.UNICODE_EMOJI]\n",
    "        positive, negative, neutral, sent_score, type_pos, type_neg = 0, 0, 0, 0, 0, 0\n",
    "        no_pesca = 0\n",
    "        for emoj in emojis_list:\n",
    "            try:\n",
    "                em = get_emoji_sentiment_rank(emoj)\n",
    "#                 positive += em['positive']\n",
    "#                 negative += em['negative']\n",
    "#                 neutral += em['neutral']\n",
    "                sent_score += abs(em['sentiment_score'])\n",
    "                if em['sentiment_score']>0:\n",
    "                    type_pos += 1\n",
    "                else:\n",
    "                    type_neg += 1\n",
    "                    \n",
    "            # if get_emoji_sentiment_rank doesn't recognize the emoji\n",
    "            except:  \n",
    "                emoji_name = emoji.UNICODE_EMOJI.get(emoj)[1:-1]\n",
    "                if emoji_name in positive_words:\n",
    "                    type_pos += 1\n",
    "                    continue\n",
    "                elif emoji_name in negative_words:\n",
    "                    type_neg += 1\n",
    "                    continue\n",
    "                else:\n",
    "                    # Evaluate by words\n",
    "                    for idx, w in enumerate(emoji_name.split('_')):\n",
    "                        if w in positive_words:\n",
    "                            type_pos += 1\n",
    "                            break\n",
    "                        elif w in negative_words:\n",
    "                            type_neg += 1\n",
    "                            break\n",
    "        # Igual sigue trucho, porque solo considera la informacion de si el emoji es positivo o negativo\n",
    "        # pero el emoji va a tener sent_score = 0, no seria tan comparable con los emojis que \n",
    "        # sí eran compatibles y no necesitaron esta trucheria, por lo que sí tienen sent_score\n",
    "        return [len(emojis_list), sent_score, type_pos, type_neg]\n",
    "\n",
    "    def neg_transform(self, X):\n",
    "        \"\"\"\n",
    "        Append '_NEG' to all words after a negation.\n",
    "        \"\"\"\n",
    "        converted = []\n",
    "        for tweet in X:\n",
    "            neg = mark_negation(tweet.split(' '))\n",
    "            sentence = ' '.join(word for word in neg)\n",
    "            converted.append(sentence)\n",
    "        return converted\n",
    "    \n",
    "    def count_repeated_chars(self, tweet):\n",
    "        \"\"\"\n",
    "        Count number of more than twice repeated chars ( >= three times).\n",
    "        \"\"\"\n",
    "        c_prev = tweet[0]\n",
    "        counter = 0\n",
    "        twice = False\n",
    "        for c in tweet[1:]:\n",
    "            if c==c_prev:\n",
    "                if twice:\n",
    "                    counter += 1\n",
    "                twice = True\n",
    "            else:\n",
    "                twice = False\n",
    "            c_prev = c\n",
    "        return counter\n",
    "    \n",
    "    def count_repeated_dots(self, tweet):\n",
    "        \"\"\"\n",
    "        Count number of contiguous dots.\n",
    "        \"\"\"\n",
    "        counter = 0\n",
    "        prev_is_dot = False\n",
    "        for c in tweet[1:]:\n",
    "            if c == '.':\n",
    "                if prev_is_dot:\n",
    "                    counter += 1\n",
    "                else:\n",
    "                    prev_is_dot = True\n",
    "            else:\n",
    "                prev_is_dot = False\n",
    "        return counter\n",
    "    \n",
    "    def transform(self, X, y=None):\n",
    "        chars = []\n",
    "        X_neg = self.neg_transform(X)\n",
    "        for tweet in X_neg:\n",
    "            features = np.hstack((self.get_relevant_chars(tweet),\n",
    "                                  self.get_emojis(tweet)))\n",
    "            chars.append(features)\n",
    "        return np.array(chars)\n",
    "\n",
    "    def fit(self, X, y=None):\n",
    "        return self"
   ]
  },
  {
   "cell_type": "code",
   "execution_count": 134,
   "metadata": {},
   "outputs": [],
   "source": [
    "class LiuFeatureExtractor(BaseEstimator, TransformerMixin):\n",
    "    \"\"\"\n",
    "    Takes in a corpus of tweets and calculates features using Bing Liu's lexicon.\n",
    "    \"\"\"\n",
    "\n",
    "    def __init__(self, tokenizer):\n",
    "        self.tokenizer = tokenizer\n",
    "        self.pos_set = set(opinion_lexicon.positive())\n",
    "        self.neg_set = set(opinion_lexicon.negative())\n",
    "\n",
    "    def liu_score(self,sentence):\n",
    "        \"\"\"\n",
    "        Calculates the number of positive and negative words in the sentence using Bing Liu's Lexicon.\n",
    "        \"\"\" \n",
    "        tokenized_sent = self.tokenizer.tokenize(sentence)\n",
    "        pos_words = 0\n",
    "        neg_words = 0\n",
    "        for word in tokenized_sent:\n",
    "            if word in self.pos_set:\n",
    "                pos_words += 1\n",
    "            elif word in self.neg_set:\n",
    "                neg_words += 1\n",
    "        return [pos_words,neg_words]\n",
    "\n",
    "    def transform(self, X, y=None):\n",
    "        \"\"\"\n",
    "        Applies liu_score on a data.frame containing tweets.\n",
    "        \"\"\"\n",
    "        values = []\n",
    "        for tweet in X:\n",
    "            values.append(self.liu_score(tweet))\n",
    "\n",
    "        return(np.array(values))\n",
    "\n",
    "    def fit(self, X, y=None):\n",
    "        \"\"\"\n",
    "        This function must return `self` unless we expect the transform function to perform a \n",
    "        different action on training and testing partitions (e.g., when we calculate unigram features, \n",
    "        the dictionary is only extracted from the first batch).\n",
    "        \"\"\"\n",
    "        return self\n"
   ]
  },
  {
   "cell_type": "code",
   "execution_count": 135,
   "metadata": {},
   "outputs": [],
   "source": [
    "class VaderFeatureExtractor(BaseEstimator, TransformerMixin):\n",
    "    \"\"\"\n",
    "    Takes in a corpus of tweets and calculates features using the Vader method.\n",
    "    \"\"\"\n",
    "\n",
    "    def __init__(self, tokenizer):\n",
    "        self.tokenizer = tokenizer\n",
    "        self.sid = SentimentIntensityAnalyzer()\n",
    "\n",
    "\n",
    "    def vader_score(self,sentence):\n",
    "        \"\"\"\n",
    "        Calculates sentiment scores for a sentence using the Vader method.\n",
    "        \"\"\"\n",
    "        pol_scores = self.sid.polarity_scores(sentence)\n",
    "        return(list(pol_scores.values()))\n",
    "\n",
    "    def transform(self, X, y=None):\n",
    "        \"\"\"\n",
    "        Applies vader_score on a data.frame containing tweets.\n",
    "        \"\"\"\n",
    "        values = []\n",
    "        for tweet in X:\n",
    "            values.append(self.vader_score(tweet))\n",
    "\n",
    "        return(np.array(values))\n",
    "\n",
    "    def fit(self, X, y=None):\n",
    "        \"\"\"\n",
    "        Returns `self` unless something different happens in train and test.\n",
    "        \"\"\"\n",
    "        return self"
   ]
  },
  {
   "cell_type": "code",
   "execution_count": 136,
   "metadata": {
    "ExecuteTime": {
     "end_time": "2020-04-07T15:44:21.145564Z",
     "start_time": "2020-04-07T15:44:21.131593Z"
    },
    "colab": {
     "base_uri": "https://localhost:8080/",
     "height": 359
    },
    "colab_type": "code",
    "id": "fxw0rq1bXK2V",
    "outputId": "b1bed430-709a-4feb-cd2a-bae1f1ff0b22",
    "scrolled": true
   },
   "outputs": [],
   "source": [
    "# Veamos que sucede si ejecutamos el transformer\n",
    "# sample = train['joy'].sample(200).tweet\n",
    "# sample = train['fear'].tweet\n",
    "# test = pd.DataFrame(zip(sample, TwTokenizer().transform(sample)))\n",
    "# print(test.loc[0][1].mean())\n",
    "# test.head()"
   ]
  },
  {
   "cell_type": "markdown",
   "metadata": {},
   "source": [
    "## Doc2Vec"
   ]
  },
  {
   "cell_type": "code",
   "execution_count": 137,
   "metadata": {},
   "outputs": [
    {
     "data": {
      "text/plain": [
       "':)'"
      ]
     },
     "execution_count": 137,
     "metadata": {},
     "output_type": "execute_result"
    }
   ],
   "source": [
    "stemmer.stem(':)')"
   ]
  },
  {
   "cell_type": "code",
   "execution_count": 138,
   "metadata": {},
   "outputs": [
    {
     "data": {
      "text/plain": [
       "'best'"
      ]
     },
     "execution_count": 138,
     "metadata": {},
     "output_type": "execute_result"
    }
   ],
   "source": [
    "lemmatizer.lemmatize('best', pos=\"a\")"
   ]
  },
  {
   "cell_type": "code",
   "execution_count": 139,
   "metadata": {},
   "outputs": [],
   "source": [
    "class Doc2VecTransformer(BaseEstimator, TransformerMixin):\n",
    "    \"\"\" Transforma tweets a representaciones vectoriales usando algún modelo de Word Embeddings.\n",
    "    \"\"\"\n",
    "    \n",
    "    def __init__(self, model, aggregation_func, tokenizer, do_stem=False, do_lemmatize=False,\n",
    "                 remove_stopwords=False):\n",
    "        # extraemos los embeddings desde el objeto contenedor. ojo con esta parte.\n",
    "        self.model = model.wv \n",
    "        self.tokenizer = tokenizer\n",
    "        self.remove_stopwords = remove_stopwords\n",
    "        self.do_stem = do_stem\n",
    "        self.do_lemmatize = do_lemmatize\n",
    "        \n",
    "        # indicamos la función de agregación (np.min, np.max, np.mean, np.sum, ...)\n",
    "        self.aggregation_func = aggregation_func\n",
    "\n",
    "    def simple_tokenizer(self, doc, remove_stopwords=False, lower=False):\n",
    "        \"\"\"Tokenizador. Elimina signos de puntuación, lleva las letras a minúscula(opcional) y \n",
    "           separa el tweet por espacios.\n",
    "        \"\"\"\n",
    "        tokens = self.tokenizer.tokenize(doc)\n",
    "        final_tokens = []\n",
    "        for t in tokens:\n",
    "            try:\n",
    "                if t[0]=='#':  # Convert hashtags\n",
    "                    t = t[1:]\n",
    "            except:\n",
    "                print('Except', doc)\n",
    "            if remove_stopwords:\n",
    "                if t.lower() in stopwords:\n",
    "                    continue\n",
    "            final_tokens.append(t)\n",
    "        \n",
    "        return final_tokens\n",
    "    \n",
    "    def stem(self, doc):  \n",
    "        doc = stemmer.stem(doc)\n",
    "        return doc\n",
    "    \n",
    "    def lemmatize(self, doc):\n",
    "        \n",
    "        doc = lemmatizer.lemmatize(doc)\n",
    "        return doc\n",
    "        \n",
    "#         if lower:\n",
    "#             doc.translate(str.maketrans('', '', string.punctuation)).lower().split()\n",
    "#         return doc.translate(str.maketrans('', '', string.punctuation)).split()\n",
    "\n",
    "    def transform(self, X, y=None):\n",
    "        \n",
    "        doc_embeddings = []\n",
    "        no_embeddings = False\n",
    "        for doc in X:\n",
    "            # tokenizamos el documento. Se llevan todos los tokens a minúscula. \n",
    "            # ojo con esto, ya que puede que tokens con minúscula y mayúscula tengan\n",
    "            # distintas representaciones\n",
    "            \n",
    "            tokens = self.simple_tokenizer(doc, self.remove_stopwords) \n",
    "    \n",
    "            selected_wv = []\n",
    "            for token in tokens:\n",
    "                token = token.lower()\n",
    "                \n",
    "                # Stem or lemmatize\n",
    "                if self.do_stem:\n",
    "                    token = self.stem(token)\n",
    "                elif self.do_lemmatize:\n",
    "                    token = self.lemmatize(token)\n",
    "                \n",
    "                if token in self.model.vocab:\n",
    "                    selected_wv.append(self.model[token])\n",
    "                    \n",
    "            # si seleccionamos por lo menos un embedding para el tweet, lo agregamos y luego lo añadimos.\n",
    "            if len(selected_wv) > 0:\n",
    "                doc_embedding = self.aggregation_func(np.array(selected_wv), axis=0)\n",
    "                doc_embeddings.append(doc_embedding)\n",
    "            # si no, añadimos un vector de ceros que represente a ese documento.\n",
    "            else: \n",
    "                if not no_embeddings:\n",
    "                    print('Couldnt find any embedding for tweet:')\n",
    "                    no_embeddings = True\n",
    "                print(doc)\n",
    "                doc_embeddings.append(np.zeros(self.model.vector_size)) # la dimension del modelo \n",
    "\n",
    "        return np.array(doc_embeddings)\n",
    "\n",
    "    def fit(self, X, y=None):\n",
    "        return self"
   ]
  },
  {
   "cell_type": "markdown",
   "metadata": {
    "colab_type": "text",
    "id": "N4mLu9iYXK2Z"
   },
   "source": [
    "### Definir la representación y el clasificador\n",
    "\n",
    "Para esto, definiremos Pipelines. Un `Pipeline` es una lista de transformaciones y un estimador(clasificador) ubicado al final el cual define el flujo que seguiran nuestros datos dentro del sistema que creemos. Nos permite ejecutar facilmente el mismo proceso sobre todos los datasets que usemos, simplificando así nuestra programación.\n",
    "\n",
    "El pipeline más básico que podemos hacer es transformar el dataset a Bag of Words y después usar clasificar el BoW usando NaiveBayes:\n",
    "\n",
    "```python\n",
    "    Pipeline([('bow', CountVectorizer()), ('clf', MultinomialNB())])\n",
    "```\n",
    "\n",
    "\n",
    "Ahora, si queremos usar nuestra transformación para agregar las features que creamos, usaremos `FeatureUnion`. Esta simplemente concatenará los vectores resultantes de ejecutar BoW y los Transformer en un solo vector.\n",
    "\n",
    "```python\n",
    "    Pipeline([('features',FeatureUnion([('bow', CountVectorizer()),\n",
    "                                        ('chars_count',CharsCountTransformer())])),\n",
    "              ('clf', MultinomialNB())])\n",
    "\n",
    "```\n",
    "\n",
    "\n",
    "\n"
   ]
  },
  {
   "cell_type": "markdown",
   "metadata": {
    "colab_type": "text",
    "id": "K6zo8kmUXK2a"
   },
   "source": [
    "Recuerden que cada pipeline representa un sistema de clasificación distinto. Por lo mismo, deben instanciar uno por cada problema que resuelvan. De lo contrario, podrían solapar resultados.  Para esto, les recomendamos crear los pipeline en distintas funciones, como la siguiente:"
   ]
  },
  {
   "cell_type": "code",
   "execution_count": 140,
   "metadata": {},
   "outputs": [
    {
     "name": "stderr",
     "output_type": "stream",
     "text": [
      "<ipython-input-139-244878b53aae>:8: DeprecationWarning: Call to deprecated `wv` (Attribute will be removed in 4.0.0, use self instead).\n",
      "  self.model = model.wv\n"
     ]
    }
   ],
   "source": [
    "tfidf = TfidfVectorizer(tokenizer=TweetTokenizer().tokenize)\n",
    "\n",
    "# doc2vec_mean = Doc2VecTransformer(glove_twitter, np.mean)\n",
    "# doc2vec_sum = Doc2VecTransformer(glove_twitter, np.sum, TweetTokenizer())\n",
    "doc2vec_max_remove_stop = Doc2VecTransformer(glove_twitter, np.max, TweetTokenizer(), remove_stopwords=True)\n",
    "doc2vec_max = Doc2VecTransformer(glove_twitter, np.max, TweetTokenizer())\n",
    "doc2vec_min_remove_stop = Doc2VecTransformer(glove_twitter, np.min, TweetTokenizer(), remove_stopwords=True)\n",
    "doc2vec_min = Doc2VecTransformer(glove_twitter, np.min, TweetTokenizer())\n",
    "\n",
    "doc2vec_max_stem = Doc2VecTransformer(glove_twitter, np.max, TweetTokenizer(), do_stem=True)\n",
    "doc2vec_max_lem = Doc2VecTransformer(glove_twitter, np.max, TweetTokenizer(), do_lemmatize=True)\n",
    "\n",
    "liu = LiuFeatureExtractor(tokenizer=TweetTokenizer())\n",
    "vader = VaderFeatureExtractor(tokenizer=TweetTokenizer())"
   ]
  },
  {
   "cell_type": "code",
   "execution_count": 141,
   "metadata": {
    "ExecuteTime": {
     "end_time": "2020-04-07T15:44:21.155528Z",
     "start_time": "2020-04-07T15:44:21.149545Z"
    },
    "colab": {},
    "colab_type": "code",
    "id": "F_qyFk1JXK2b"
   },
   "outputs": [],
   "source": [
    "def get_experiment_0_pipeline():\n",
    "    \"\"\"\n",
    "    CountVectorizer + CharsCountTransformer + NB\n",
    "    \"\"\"\n",
    "    return Pipeline([('features',\n",
    "                      FeatureUnion([('bow', CountVectorizer(ngram_range=(1, 3))),\n",
    "                                    ('chars_count', CharsCountTransformer())\n",
    "                                    ])), ('clf', MultinomialNB())])"
   ]
  },
  {
   "cell_type": "code",
   "execution_count": 142,
   "metadata": {
    "ExecuteTime": {
     "end_time": "2020-04-07T15:44:21.155528Z",
     "start_time": "2020-04-07T15:44:21.149545Z"
    },
    "colab": {},
    "colab_type": "code",
    "id": "F_qyFk1JXK2b"
   },
   "outputs": [],
   "source": [
    "def get_experiment_01_pipeline():\n",
    "    \"\"\"\n",
    "    CountVectorizer + CharsCountTransformer + NB\n",
    "    \"\"\"\n",
    "    return Pipeline([('features',\n",
    "                      FeatureUnion([('bow', CountVectorizer(ngram_range=(1, 3))),\n",
    "                                    ('chars_count', CharsCountTransformer())\n",
    "                                    ])), ('clf', LogisticRegression(solver='liblinear',multi_class='ovr'))])"
   ]
  },
  {
   "cell_type": "code",
   "execution_count": 143,
   "metadata": {
    "colab": {},
    "colab_type": "code",
    "id": "vnMg2nhyuQbJ"
   },
   "outputs": [],
   "source": [
    "def get_experiment_1_pipeline():\n",
    "    \"\"\"\n",
    "    CountVectorizer + TweetTokenizer + CharsCountTransformer + NB\n",
    "    \"\"\"\n",
    "    return Pipeline([('features',\n",
    "                      FeatureUnion([('bow', CountVectorizer(tokenizer=TweetTokenizer().tokenize, \n",
    "                                                            ngram_range=(1, 3))),\n",
    "                                    ('chars_count', CharsCountTransformer())\n",
    "                                    ])), ('clf', LogisticRegression(solver='liblinear',multi_class='ovr'))])"
   ]
  },
  {
   "cell_type": "code",
   "execution_count": 144,
   "metadata": {
    "colab": {},
    "colab_type": "code",
    "id": "vnMg2nhyuQbJ"
   },
   "outputs": [],
   "source": [
    "def get_experiment_2_pipeline():\n",
    "    \"\"\"\n",
    "    CountVectorizer + TweetTokenizer + NB\n",
    "    \"\"\"\n",
    "    return Pipeline([('features',\n",
    "                      FeatureUnion([('bow', CountVectorizer(tokenizer=TweetTokenizer().tokenize,\n",
    "                                                            ngram_range=(1, 3)))])),\n",
    "                     ('clf', MLPClassifier(hidden_layer_sizes=(30, 20)))])"
   ]
  },
  {
   "cell_type": "code",
   "execution_count": 145,
   "metadata": {
    "colab": {},
    "colab_type": "code",
    "id": "vnMg2nhyuQbJ"
   },
   "outputs": [],
   "source": [
    "def get_experiment_21_pipeline():\n",
    "    \"\"\"\n",
    "    CountVectorizer + TweetTokenizer + NB\n",
    "    \"\"\"\n",
    "    return Pipeline([('features',\n",
    "                      FeatureUnion([('bow', CountVectorizer(tokenizer=TweetTokenizer().tokenize,\n",
    "                                                            ngram_range=(1, 3)))])),\n",
    "                     ('clf', LogisticRegression(solver='liblinear',multi_class='ovr'))])"
   ]
  },
  {
   "cell_type": "code",
   "execution_count": 146,
   "metadata": {
    "colab": {},
    "colab_type": "code",
    "id": "vnMg2nhyuQbJ"
   },
   "outputs": [],
   "source": [
    "def get_experiment_22_pipeline():\n",
    "    \"\"\"\n",
    "    CountVectorizer + TweetTokenizer + NB\n",
    "    \"\"\"\n",
    "    return Pipeline([('features',\n",
    "                      FeatureUnion([('bow', CountVectorizer(tokenizer=TweetTokenizer().tokenize,\n",
    "                                                            ngram_range=(1, 3)))])),\n",
    "                     ('clf', LogisticRegression(max_iter=1000, multi_class='auto'))])"
   ]
  },
  {
   "cell_type": "code",
   "execution_count": 147,
   "metadata": {
    "colab": {},
    "colab_type": "code",
    "id": "vnMg2nhyuQbJ"
   },
   "outputs": [],
   "source": [
    "def get_experiment_3_pipeline():\n",
    "    \"\"\"\n",
    "    TfidfVectorizer + TweetTokenizer + CharsCountTransformer + NB\n",
    "    \"\"\"\n",
    "    return Pipeline([('features',\n",
    "                      FeatureUnion([('tf-idf', tfidf),\n",
    "                                    ('chars_count', CharsCountTransformer())])),\n",
    "                     ('clf', LogisticRegression(solver='liblinear',multi_class='ovr'))])"
   ]
  },
  {
   "cell_type": "code",
   "execution_count": 148,
   "metadata": {
    "colab": {},
    "colab_type": "code",
    "id": "vnMg2nhyuQbJ"
   },
   "outputs": [],
   "source": [
    "def get_experiment_4_pipeline():\n",
    "    \"\"\"\n",
    "    TfidfVectorizer + TweetTokenizer + NB\n",
    "    \"\"\"\n",
    "    return Pipeline([('features',\n",
    "                      FeatureUnion([('tf-idf', tfidf)])),\n",
    "                     ('clf', LogisticRegression(solver='liblinear',multi_class='ovr'))])"
   ]
  },
  {
   "cell_type": "code",
   "execution_count": 149,
   "metadata": {
    "colab": {},
    "colab_type": "code",
    "id": "vnMg2nhyuQbJ"
   },
   "outputs": [],
   "source": [
    "def get_experiment_5_pipeline():\n",
    "    \"\"\"\n",
    "    TfidfVectorizer + TweetTokenizer + Doc2Vec (removing stopwords) + SVM\n",
    "    \"\"\"\n",
    "    return Pipeline([('features',\n",
    "                      FeatureUnion([('tf-idf', TfidfVectorizer(tokenizer=TweetTokenizer().tokenize)),\n",
    "                                    ('doc2vec', doc2vec_max_remove_stop)])),\n",
    "                     ('clf', LogisticRegression(solver='liblinear',multi_class='ovr'))])"
   ]
  },
  {
   "cell_type": "code",
   "execution_count": 150,
   "metadata": {
    "colab": {},
    "colab_type": "code",
    "id": "vnMg2nhyuQbJ"
   },
   "outputs": [],
   "source": [
    "def get_experiment_6_pipeline():\n",
    "    \"\"\"\n",
    "    TfidfVectorizer + TweetTokenizer + Doc2Vec (without removing stopwords) + SVM\n",
    "    \"\"\"\n",
    "    return Pipeline([('features',\n",
    "                      FeatureUnion([('tf-idf', tfidf),\n",
    "                                    ('doc2vec', doc2vec_max)])),\n",
    "                     ('clf', LogisticRegression(solver='liblinear',multi_class='ovr'))])"
   ]
  },
  {
   "cell_type": "code",
   "execution_count": 151,
   "metadata": {
    "colab": {},
    "colab_type": "code",
    "id": "vnMg2nhyuQbJ"
   },
   "outputs": [],
   "source": [
    "def get_experiment_61_pipeline():\n",
    "    \"\"\"\n",
    "    TfidfVectorizer + TweetTokenizer + Doc2Vec (without removing stopwords) + SVM\n",
    "    \"\"\"\n",
    "    return Pipeline([('features',\n",
    "                      FeatureUnion([('tf-idf', tfidf),\n",
    "                                    ('doc2vecmax', doc2vec_max),\n",
    "                                    ('doc2vecmin', doc2vec_min)])),\n",
    "                     ('clf', LogisticRegression(solver='liblinear',multi_class='ovr'))])"
   ]
  },
  {
   "cell_type": "code",
   "execution_count": 152,
   "metadata": {
    "colab": {},
    "colab_type": "code",
    "id": "vnMg2nhyuQbJ"
   },
   "outputs": [],
   "source": [
    "def get_experiment_62_pipeline():\n",
    "    \"\"\"\n",
    "    TfidfVectorizer + TweetTokenizer + Doc2Vec (without removing stopwords) + SVM\n",
    "    \"\"\"\n",
    "    return Pipeline([('features',\n",
    "                      FeatureUnion([('tf-idf', tfidf),\n",
    "                                    ('doc2vecmax_stem', doc2vec_max_stem)])),\n",
    "                     ('clf', LogisticRegression(solver='liblinear',multi_class='ovr'))])"
   ]
  },
  {
   "cell_type": "code",
   "execution_count": 153,
   "metadata": {
    "colab": {},
    "colab_type": "code",
    "id": "vnMg2nhyuQbJ"
   },
   "outputs": [],
   "source": [
    "def get_experiment_63_pipeline():\n",
    "    \"\"\"\n",
    "    TfidfVectorizer + TweetTokenizer + Doc2Vec (without removing stopwords) + SVM\n",
    "    \"\"\"\n",
    "    return Pipeline([('features',\n",
    "                      FeatureUnion([('tf-idf', tfidf),\n",
    "                                    ('doc2vecmax_lem', doc2vec_max_lem)])),\n",
    "                     ('clf', LogisticRegression(solver='liblinear',multi_class='ovr'))])"
   ]
  },
  {
   "cell_type": "code",
   "execution_count": 154,
   "metadata": {},
   "outputs": [],
   "source": [
    "def get_experiment_7_pipeline():\n",
    "    \"\"\"\n",
    "    CountVectorizer + CharsCountTransformer +  LiuFeatureExtractor + VaderFeatureExtractor + SVM\n",
    "    \"\"\"\n",
    "    return Pipeline([('features',\n",
    "                      FeatureUnion([('bow', CountVectorizer(ngram_range=(1, 3))),\n",
    "                                    ('chars_count', CharsCountTransformer()),\n",
    "                                    ('liu', liu),\n",
    "                                    ('vader', vader)\n",
    "                                    ])), ('clf', SVC(probability=True))])"
   ]
  },
  {
   "cell_type": "code",
   "execution_count": 155,
   "metadata": {},
   "outputs": [],
   "source": [
    "def get_experiment_71_pipeline():\n",
    "    \"\"\"\n",
    "    CountVectorizer + CharsCountTransformer +  LiuFeatureExtractor + VaderFeatureExtractor + SVM\n",
    "    \"\"\"\n",
    "    return Pipeline([('features',\n",
    "                      FeatureUnion([('bow', CountVectorizer(ngram_range=(1, 3))),\n",
    "                                    ('chars_count', CharsCountTransformer()),\n",
    "                                    ('liu', liu),\n",
    "                                    ('vader', vader)\n",
    "                                    ])), ('clf', LogisticRegression(solver='liblinear',multi_class='ovr'))])"
   ]
  },
  {
   "cell_type": "code",
   "execution_count": 156,
   "metadata": {},
   "outputs": [],
   "source": [
    "def get_experiment_72_pipeline():\n",
    "    \"\"\"\n",
    "    CountVectorizer + CharsCountTransformer +  LiuFeatureExtractor + VaderFeatureExtractor + SVM\n",
    "    \"\"\"\n",
    "    return Pipeline([('features',\n",
    "                      FeatureUnion([('bow', CountVectorizer(ngram_range=(1, 3))),\n",
    "                                    ('chars_count', CharsCountTransformer()),\n",
    "                                    ('liu', liu),\n",
    "                                    ('vader', vader)\n",
    "                                    ])), ('clf', LogisticRegression(max_iter=1000, multi_class='auto'))])"
   ]
  },
  {
   "cell_type": "code",
   "execution_count": 157,
   "metadata": {},
   "outputs": [],
   "source": [
    "# al parecer, el mejor es LogisticRegression(solver='liblinear',multi_class='ovr')"
   ]
  },
  {
   "cell_type": "markdown",
   "metadata": {
    "colab_type": "text",
    "id": "zOQekJanXK2h"
   },
   "source": [
    "### Ejecutar el pipeline para algún dataset"
   ]
  },
  {
   "cell_type": "code",
   "execution_count": 158,
   "metadata": {},
   "outputs": [],
   "source": [
    "def over_sampling(X, y):\n",
    "    \"\"\"\n",
    "    Oversamplea unos datos\n",
    "    \"\"\"\n",
    "#     print(X)\n",
    "#     print(y)\n",
    "    X_over = []\n",
    "    y_over = []\n",
    "    \n",
    "    n_max = np.max([np.sum([y == c]) for c in np.unique(y)])\n",
    "    print([np.sum([y == c]) for c in np.unique(y)])\n",
    "    \n",
    "    for c in np.unique(y):\n",
    "        n = n_max - np.sum([y == c])\n",
    "        if n == 0: continue\n",
    "        indices = np.where(y == c)[0]\n",
    "        arr_sampling = np.random.randint(low=0,\n",
    "                                         high=len(indices),\n",
    "                                         size=int(n / 2))\n",
    "        indices = np.array(indices[arr_sampling])\n",
    "        \n",
    "        X_over = np.concatenate([X_over, [X.iloc[i] for i in indices]])\n",
    "        y_over = np.concatenate([y_over, [y.iloc[i] for i in indices]])\n",
    "    \n",
    "    X_over = np.concatenate([X, X_over])\n",
    "    y_over = np.concatenate([y, y_over])\n",
    "    \n",
    "    \n",
    "    print([np.sum([y_over == c]) for c in np.unique(y)])\n",
    "    \n",
    "    return X_over, y_over"
   ]
  },
  {
   "cell_type": "code",
   "execution_count": 163,
   "metadata": {
    "ExecuteTime": {
     "end_time": "2020-04-07T15:44:21.167498Z",
     "start_time": "2020-04-07T15:44:21.157540Z"
    },
    "colab": {},
    "colab_type": "code",
    "id": "V3gMwCchXK2i",
    "scrolled": true
   },
   "outputs": [],
   "source": [
    "def run(dataset, dataset_name, pipeline):\n",
    "    \"\"\"Creamos el pipeline y luego lo ejecutamos el pipeline sobre un dataset. \n",
    "    Retorna el modelo ya entrenado mas sus labels asociadas y los scores obtenidos al evaluarlo.\"\"\"\n",
    "\n",
    "    # Dividimos el dataset en train y test.\n",
    "    X_train, X_test, y_train, y_test = train_test_split(\n",
    "        dataset.tweet,\n",
    "        dataset.sentiment_intensity,\n",
    "        shuffle=True,\n",
    "        test_size=0.33)\n",
    "#     print(type(X_train))\n",
    "    \n",
    "    X_train, y_train = over_sampling(X_train, y_train)\n",
    "    \n",
    "    # Entrenamos el clasificador (Ejecuta el entrenamiento sobre todo el pipeline)\n",
    "    pipeline.fit(X_train, y_train)\n",
    "\n",
    "    # Predecimos las probabilidades de intensidad de cada elemento del set de prueba.\n",
    "    predicted_probabilities = pipeline.predict_proba(X_test)\n",
    "\n",
    "    # Obtenemos el orden de las clases aprendidas.\n",
    "    learned_labels = pipeline.classes_\n",
    "\n",
    "    # Evaluamos:\n",
    "    scores = evaluate(predicted_probabilities, y_test, learned_labels, dataset_name)\n",
    "    return pipeline, learned_labels, scores"
   ]
  },
  {
   "cell_type": "markdown",
   "metadata": {
    "colab_type": "text",
    "id": "jFZBa7emXK2l"
   },
   "source": [
    "### Ejecutar el sistema creado por cada train set\n",
    "\n",
    "Este código crea y entrena los 4 sistemas de clasificación y luego los evalua. Para los experimentos, pueden copiar este código variando el pipeline cuantas veces estimen conveniente."
   ]
  },
  {
   "cell_type": "code",
   "execution_count": 164,
   "metadata": {},
   "outputs": [],
   "source": [
    "def run_experiments(experiments):\n",
    "    for n, pipeline in enumerate(experiments):\n",
    "        classifiers = []\n",
    "        learned_labels_array = []\n",
    "        scores_array = []\n",
    "\n",
    "        # Por cada nombre_dataset, dataset en train ('anger', 'fear', 'joy', 'sadness')\n",
    "        for dataset_name, dataset in train.items():\n",
    "\n",
    "            # ejecutamos el pipeline sobre el dataset\n",
    "            classifier, learned_labels, scores = run(dataset, dataset_name, pipeline)\n",
    "\n",
    "            # guardamos el clasificador entrenado (en realidad es el pipeline ya entrenado...)\n",
    "            classifiers.append(classifier)\n",
    "\n",
    "            # guardamos las labels aprendidas por el clasificador\n",
    "            learned_labels_array.append(learned_labels)\n",
    "\n",
    "            # guardamos los scores obtenidos\n",
    "            scores_array.append(scores)\n",
    "\n",
    "        # print avg scores\n",
    "        print('Experiment', n,\n",
    "          \"Average scores:\\n\\n\",\n",
    "          \"Average AUC: {0:.3g}\\t Average Kappa: {1:.3g}\\t Average Accuracy: {2:.3g}\"\n",
    "          .format(*np.array(scores_array).mean(axis=0)))"
   ]
  },
  {
   "cell_type": "code",
   "execution_count": 165,
   "metadata": {
    "ExecuteTime": {
     "end_time": "2020-04-07T15:44:21.384119Z",
     "start_time": "2020-04-07T15:44:21.170488Z"
    },
    "colab": {
     "base_uri": "https://localhost:8080/",
     "height": 1000
    },
    "colab_type": "code",
    "id": "GOIXPM_RXK2l",
    "outputId": "b3daaa37-d298-4c4a-d226-de08654bfb33",
    "scrolled": true
   },
   "outputs": [
    {
     "name": "stdout",
     "output_type": "stream",
     "text": [
      "[114, 102, 414]\n",
      "[264, 258, 414]\n",
      "Confusion Matrix for anger:\n",
      "\n",
      "[[ 17  38   4]\n",
      " [ 21 160  22]\n",
      " [  2  30  17]]\n",
      "Scores:\n",
      "\n",
      "AUC:  0.651\tKappa: 0.208\tAccuracy: 0.624\n",
      "------------------------------------------------------\n",
      "\n",
      "[182, 203, 457]\n",
      "[319, 330, 457]\n",
      "Confusion Matrix for fear:\n",
      "\n",
      "[[ 37  39   9]\n",
      " [ 42 161  39]\n",
      " [  9  42  37]]\n",
      "Scores:\n",
      "\n",
      "AUC:  0.662\tKappa: 0.243\tAccuracy: 0.566\n",
      "------------------------------------------------------\n",
      "\n",
      "[123, 139, 342]\n",
      "[232, 240, 342]\n",
      "Confusion Matrix for joy:\n",
      "\n",
      "[[32 35 13]\n",
      " [21 98 27]\n",
      " [ 2 30 40]]\n",
      "Scores:\n",
      "\n",
      "AUC:  0.762\tKappa: 0.305\tAccuracy: 0.57\n",
      "------------------------------------------------------\n",
      "\n",
      "[133, 149, 294]\n",
      "[213, 221, 294]\n",
      "Confusion Matrix for sadness:\n",
      "\n",
      "[[ 24  29   8]\n",
      " [ 33 110  16]\n",
      " [  4  30  30]]\n",
      "Scores:\n",
      "\n",
      "AUC:  0.673\tKappa: 0.269\tAccuracy: 0.577\n",
      "------------------------------------------------------\n",
      "\n",
      "Experiment 0 Average scores:\n",
      "\n",
      " Average AUC: 0.687\t Average Kappa: 0.256\t Average Accuracy: 0.584\n",
      "[110, 108, 412]\n",
      "[261, 260, 412]\n",
      "Confusion Matrix for anger:\n",
      "\n",
      "[[ 15  35   3]\n",
      " [ 20 152  33]\n",
      " [  0  38  15]]\n",
      "Scores:\n",
      "\n",
      "AUC:  0.603\tKappa: 0.129\tAccuracy: 0.585\n",
      "------------------------------------------------------\n",
      "\n",
      "[171, 206, 465]\n",
      "[318, 335, 465]\n",
      "Couldnt find any embedding for tweet:\n",
      "Overtime... #TeamNA #WCH2016 \n",
      "Confusion Matrix for fear:\n",
      "\n",
      "[[ 28  45   9]\n",
      " [ 34 165  35]\n",
      " [  5  55  39]]\n",
      "Scores:\n",
      "\n",
      "AUC:  0.638\tKappa: 0.213\tAccuracy: 0.559\n",
      "------------------------------------------------------\n",
      "\n",
      "[130, 143, 331]\n",
      "[230, 237, 331]\n",
      "Confusion Matrix for joy:\n",
      "\n",
      "[[ 35  36   5]\n",
      " [ 30 101  26]\n",
      " [  5  27  33]]\n",
      "Scores:\n",
      "\n",
      "AUC:  0.706\tKappa: 0.282\tAccuracy: 0.567\n",
      "------------------------------------------------------\n",
      "\n",
      "[136, 138, 302]\n",
      "[219, 220, 302]\n",
      "Couldnt find any embedding for tweet:\n",
      "@Christy_RTR @doge_e_fresh I'm despondent\n",
      "Confusion Matrix for sadness:\n",
      "\n",
      "[[28 35  9]\n",
      " [28 97 26]\n",
      " [ 8 33 20]]\n",
      "Scores:\n",
      "\n",
      "AUC:  0.631\tKappa: 0.174\tAccuracy: 0.511\n",
      "------------------------------------------------------\n",
      "\n",
      "Experiment 1 Average scores:\n",
      "\n",
      " Average AUC: 0.645\t Average Kappa: 0.199\t Average Accuracy: 0.555\n",
      "[104, 107, 419]\n",
      "[261, 263, 419]\n",
      "Confusion Matrix for anger:\n",
      "\n",
      "[[ 11  40   3]\n",
      " [ 26 150  22]\n",
      " [  0  33  26]]\n",
      "Scores:\n",
      "\n",
      "AUC:  0.627\tKappa: 0.189\tAccuracy: 0.601\n",
      "------------------------------------------------------\n",
      "\n",
      "[189, 184, 469]\n",
      "[329, 326, 469]\n",
      "Confusion Matrix for fear:\n",
      "\n",
      "[[ 37  56  11]\n",
      " [ 26 159  45]\n",
      " [  8  45  28]]\n",
      "Scores:\n",
      "\n",
      "AUC:  0.645\tKappa: 0.193\tAccuracy: 0.54\n",
      "------------------------------------------------------\n",
      "\n",
      "[136, 138, 330]\n",
      "[233, 234, 330]\n",
      "Confusion Matrix for joy:\n",
      "\n",
      "[[33 42  6]\n",
      " [33 97 28]\n",
      " [ 5 21 33]]\n",
      "Scores:\n",
      "\n",
      "AUC:  0.692\tKappa: 0.253\tAccuracy: 0.547\n",
      "------------------------------------------------------\n",
      "\n",
      "[134, 154, 288]\n",
      "[211, 221, 288]\n",
      "Confusion Matrix for sadness:\n",
      "\n",
      "[[18 35  3]\n",
      " [39 92 34]\n",
      " [ 8 30 25]]\n",
      "Scores:\n",
      "\n",
      "AUC:  0.599\tKappa: 0.104\tAccuracy: 0.475\n",
      "------------------------------------------------------\n",
      "\n",
      "Experiment 2 Average scores:\n",
      "\n",
      " Average AUC: 0.641\t Average Kappa: 0.185\t Average Accuracy: 0.541\n"
     ]
    }
   ],
   "source": [
    "# experiments = [get_experiment_01_pipeline(),\n",
    "#                get_experiment_1_pipeline(),\n",
    "#                get_experiment_2_pipeline(),\n",
    "#                get_experiment_3_pipeline(),\n",
    "#                get_experiment_4_pipeline(),\n",
    "#                get_experiment_6_pipeline(),\n",
    "#                get_experiment_71_pipeline()]\n",
    "experiments = [get_experiment_6_pipeline(),\n",
    "               get_experiment_62_pipeline(),\n",
    "               get_experiment_63_pipeline()]\n",
    "\n",
    "# experiments = [get_experiment_6_pipeline()]\n",
    "\n",
    "run_experiments(experiments)"
   ]
  },
  {
   "cell_type": "code",
   "execution_count": 167,
   "metadata": {},
   "outputs": [
    {
     "name": "stdout",
     "output_type": "stream",
     "text": [
      "[111, 100, 419]\n",
      "[265, 259, 419]\n",
      "Confusion Matrix for anger:\n",
      "\n",
      "[[  9  49   3]\n",
      " [ 14 166  18]\n",
      " [  1  34  17]]\n",
      "Scores:\n",
      "\n",
      "AUC:  0.58\tKappa: 0.158\tAccuracy: 0.617\n",
      "------------------------------------------------------\n",
      "\n",
      "[182, 199, 461]\n",
      "[321, 330, 461]\n",
      "Confusion Matrix for fear:\n",
      "\n",
      "[[ 30  51   8]\n",
      " [ 23 182  33]\n",
      " [  2  62  24]]\n",
      "Scores:\n",
      "\n",
      "AUC:  0.612\tKappa: 0.187\tAccuracy: 0.569\n",
      "------------------------------------------------------\n",
      "\n",
      "[135, 142, 327]\n",
      "[231, 234, 327]\n",
      "Confusion Matrix for joy:\n",
      "\n",
      "[[42 34  1]\n",
      " [44 96 21]\n",
      " [ 3 27 30]]\n",
      "Scores:\n",
      "\n",
      "AUC:  0.715\tKappa: 0.277\tAccuracy: 0.564\n",
      "------------------------------------------------------\n",
      "\n",
      "[128, 142, 306]\n",
      "[217, 224, 306]\n",
      "Confusion Matrix for sadness:\n",
      "\n",
      "[[ 14  52   2]\n",
      " [ 12 127   8]\n",
      " [  5  42  22]]\n",
      "Scores:\n",
      "\n",
      "AUC:  0.637\tKappa: 0.216\tAccuracy: 0.574\n",
      "------------------------------------------------------\n",
      "\n",
      "Average scores:\n",
      "\n",
      " Average AUC: 0.636\t Average Kappa: 0.209\t Average Accuracy: 0.581\n"
     ]
    }
   ],
   "source": [
    "pipeline = get_experiment_0_pipeline()\n",
    "\n",
    "classifiers = []\n",
    "learned_labels_array = []\n",
    "scores_array = []\n",
    "\n",
    "# Por cada nombre_dataset, dataset en train ('anger', 'fear', 'joy', 'sadness')\n",
    "for dataset_name, dataset in train.items():\n",
    "\n",
    "    # ejecutamos el pipeline sobre el dataset\n",
    "    classifier, learned_labels, scores = run(dataset, dataset_name, pipeline)\n",
    "\n",
    "    # guardamos el clasificador entrenado (en realidad es el pipeline ya entrenado...)\n",
    "    classifiers.append(classifier)\n",
    "\n",
    "    # guardamos las labels aprendidas por el clasificador\n",
    "    learned_labels_array.append(learned_labels)\n",
    "\n",
    "    # guardamos los scores obtenidos\n",
    "    scores_array.append(scores)\n",
    "\n",
    "# print avg scores\n",
    "print(\"Average scores:\\n\\n\",\n",
    "  \"Average AUC: {0:.3g}\\t Average Kappa: {1:.3g}\\t Average Accuracy: {2:.3g}\"\n",
    "  .format(*np.array(scores_array).mean(axis=0)))"
   ]
  },
  {
   "cell_type": "markdown",
   "metadata": {
    "ExecuteTime": {
     "end_time": "2019-08-21T19:37:43.169737Z",
     "start_time": "2019-08-21T19:37:43.166744Z"
    },
    "colab_type": "text",
    "id": "Jp3JB-NYXK2q"
   },
   "source": [
    "### Predecir los target set y crear la submission\n",
    "\n",
    "Aquí predecimos los target set usando los clasificadores creados y creamos los archivos de las submissions."
   ]
  },
  {
   "cell_type": "code",
   "execution_count": null,
   "metadata": {
    "ExecuteTime": {
     "end_time": "2020-04-07T15:44:21.392097Z",
     "start_time": "2020-04-07T15:44:21.386114Z"
    },
    "colab": {},
    "colab_type": "code",
    "id": "ggKp_CXhXK2r"
   },
   "outputs": [],
   "source": [
    "def predict_target(dataset, classifier, labels):\n",
    "    # Predecir las probabilidades de intensidad de cada elemento del target set.\n",
    "    predicted = pd.DataFrame(classifier.predict_proba(dataset.tweet), columns=labels)\n",
    "    # Agregar ids\n",
    "    predicted['id'] = dataset.id.values\n",
    "    # Reordenar las columnas\n",
    "    predicted = predicted[['id', 'low', 'medium', 'high']]\n",
    "    return predicted"
   ]
  },
  {
   "cell_type": "code",
   "execution_count": null,
   "metadata": {
    "ExecuteTime": {
     "end_time": "2020-04-07T15:44:21.588573Z",
     "start_time": "2020-04-07T15:44:21.394094Z"
    },
    "colab": {},
    "colab_type": "code",
    "id": "GdvtcxN6XK2u",
    "scrolled": true
   },
   "outputs": [],
   "source": [
    "predicted_target = {}\n",
    "\n",
    "# Crear carpeta ./predictions\n",
    "if (not os.path.exists('./predictions')):\n",
    "    os.mkdir('./predictions')\n",
    "\n",
    "else:\n",
    "    # Eliminar predicciones anteriores:\n",
    "    shutil.rmtree('./predictions')\n",
    "    os.mkdir('./predictions')\n",
    "\n",
    "# por cada target set:\n",
    "for idx, key in enumerate(target):\n",
    "    # Predecirlo\n",
    "    print(classifiers[idx])\n",
    "    predicted_target[key] = predict_target(target[key], classifiers[idx],\n",
    "                                           learned_labels_array[idx])\n",
    "    # Guardar predicciones en archivos separados. \n",
    "    predicted_target[key].to_csv('./predictions/{}-pred.txt'.format(key),\n",
    "                                 sep='\\t',\n",
    "                                 header=False,\n",
    "                                 index=False)\n",
    "\n",
    "# Crear archivo zip\n",
    "a = shutil.make_archive('predictions', 'zip', './predictions')"
   ]
  },
  {
   "cell_type": "markdown",
   "metadata": {
    "colab_type": "text",
    "id": "8FJ3Ok3aXK2z"
   },
   "source": [
    "## 6. Conclusiones"
   ]
  },
  {
   "cell_type": "markdown",
   "metadata": {
    "colab_type": "text",
    "id": "Nm7IJKL3XK20"
   },
   "source": [
    "..."
   ]
  },
  {
   "cell_type": "code",
   "execution_count": null,
   "metadata": {
    "colab": {},
    "colab_type": "code",
    "id": "bxqiGgyMs3Ao"
   },
   "outputs": [],
   "source": []
  }
 ],
 "metadata": {
  "colab": {
   "include_colab_link": true,
   "name": "assignment_1.ipynb",
   "provenance": []
  },
  "kernelspec": {
   "display_name": "Python 3",
   "language": "python",
   "name": "python3"
  },
  "language_info": {
   "codemirror_mode": {
    "name": "ipython",
    "version": 3
   },
   "file_extension": ".py",
   "mimetype": "text/x-python",
   "name": "python",
   "nbconvert_exporter": "python",
   "pygments_lexer": "ipython3",
   "version": "3.8.3"
  },
  "toc": {
   "base_numbering": 1,
   "nav_menu": {},
   "number_sections": true,
   "sideBar": true,
   "skip_h1_title": true,
   "title_cell": "Table of Contents",
   "title_sidebar": "Contents",
   "toc_cell": true,
   "toc_position": {},
   "toc_section_display": true,
   "toc_window_display": false
  },
  "varInspector": {
   "cols": {
    "lenName": 16,
    "lenType": 16,
    "lenVar": 40
   },
   "kernels_config": {
    "python": {
     "delete_cmd_postfix": "",
     "delete_cmd_prefix": "del ",
     "library": "var_list.py",
     "varRefreshCmd": "print(var_dic_list())"
    },
    "r": {
     "delete_cmd_postfix": ") ",
     "delete_cmd_prefix": "rm(",
     "library": "var_list.r",
     "varRefreshCmd": "cat(var_dic_list()) "
    }
   },
   "types_to_exclude": [
    "module",
    "function",
    "builtin_function_or_method",
    "instance",
    "_Feature"
   ],
   "window_display": false
  }
 },
 "nbformat": 4,
 "nbformat_minor": 1
}
