{
 "cells": [
  {
   "cell_type": "markdown",
   "metadata": {
    "colab_type": "text",
    "id": "view-in-github"
   },
   "source": [
    "<a href=\"https://colab.research.google.com/github/MartinVIllesca/CC6205-Procesamiento-de-Lenguaje-Natural/blob/master/assignment_1.ipynb\" target=\"_parent\"><img src=\"https://colab.research.google.com/assets/colab-badge.svg\" alt=\"Open In Colab\"/></a>"
   ]
  },
  {
   "cell_type": "markdown",
   "metadata": {
    "ExecuteTime": {
     "end_time": "2020-03-31T13:49:08.174519Z",
     "start_time": "2020-03-31T13:49:08.165989Z"
    },
    "colab_type": "text",
    "id": "PkfIPpmVXK1J"
   },
   "source": [
    "# Tarea 1 NLP : Competencia de Clasificación de Texto\n",
    "-------------------------------\n"
   ]
  },
  {
   "cell_type": "markdown",
   "metadata": {
    "colab_type": "text",
    "id": "ssXRUJcBXK1L"
   },
   "source": [
    "- **Nombre:** Jou-Hui Ho Ku, Martín Valderrama\n",
    "\n",
    "- **Usuario o nombre de equipo en Codalab:** PibJou\n",
    "\n",
    "\n"
   ]
  },
  {
   "cell_type": "markdown",
   "metadata": {
    "colab_type": "text",
    "id": "nUUQEnHxXK1M"
   },
   "source": [
    "## Objetivo e Instrucciones:\n",
    "\n",
    "### Objetivo\n",
    "\n",
    "Esta tarea consiste en participar en una competencia cuyo objetivo es la clasificación de tweets según su intensidad de emoción. Específicamente: \n",
    "\n",
    "Tendrán 4 datasets de tweets de distintas emociones: `anger`, `fear`, `sadness` y `joy`. Para cada uno de estos datasets, deberán crear un clasificador que indique la intensidad de dicha emoción en sus tweets (`low`, `medium`, `high`)."
   ]
  },
  {
   "cell_type": "markdown",
   "metadata": {
    "colab_type": "text",
    "id": "kVvANhT6XK1N"
   },
   "source": [
    "###  Fecha de Entrega: \n",
    "\n",
    "Por ser anunciada una vez termine el paro. Se publicará la fecha en ucursos."
   ]
  },
  {
   "cell_type": "markdown",
   "metadata": {
    "ExecuteTime": {
     "end_time": "2020-04-07T14:34:38.796217Z",
     "start_time": "2020-04-07T14:34:38.782255Z"
    },
    "colab_type": "text",
    "id": "CG1T7EWnXK1O"
   },
   "source": [
    "### Detalles e instrucciones de la competencia:\n",
    "\n",
    "- La competencia consiste en resolver 4 problemas de clasificación distintos, cada uno de tres clases. Por cada problema deberán crear un clasificador distinto. La evaluación de la competencia se realiza en base a 4 métricas: AUC, Kappa y Accuracy. Los mejores puntajes en cada ítem serán los que ganen.\n",
    "\n",
    "- Para comenzar se les entregará en este notebook el baseline y la estructura del reporte. El baseline es el código que realiza creación de features y clasificación básica. Los puntajes de este serán ocupados como base para la competencia: deben superar sus resultados para ser bien evaluados.  \n",
    "\n",
    "- Para participar, deben registrarse en Codalab y luego ingresar a la competencia usando el siguiente [link]( https://competitions.codalab.org/competitions/24121?secret_key=f5eb2d95-b36e-4aad-8fc5-4d9d77f4e4dc). \n",
    "\n",
    "- **Es requisito entregar el reporte con el código y haber participado en la competencia para ser evaluado.**\n",
    "\n",
    "- Pueden hacer grupos de máximo 2 alumnos. Cada grupo debe tener un nombre de equipo (En codalab, ir a settings y después cambiar Team Name). Solo una persona debe administrar la cuenta del grupo.\n",
    "\n",
    "- En total pueden hacer un **máximo de 4 envíos/submissions** (tanto para equipos como para envíos indivuales).\n",
    "\n",
    "- Hagan varios experimentos haciendo cross-validation o evaluación sobre una sub-partición antes de enviar sus predicciones a Codalab. Asegúrense que la distribución de las clases sea balanceada en las particiones de training y testing. Verificar que el formato de la submission coincida con el de la competencia. De lo contrario, se les será evaluado incorrectamente.\n",
    "\n",
    "- Estar top 5 en alguna métrica equivale a 1 punto extra en la nota final.\n",
    "\n",
    "- No se limiten a los contenidos vistos ni a scikit ni a este baseline. ¡Usen todo su conocimiento e ingenio en mejorar sus sistemas! \n",
    "\n",
    "- Todas las dudas escríbanlas en el hilo de U-cursos de la tarea. Los emails que lleguen al equipo docente serán remitidos a ese medio.\n"
   ]
  },
  {
   "cell_type": "markdown",
   "metadata": {
    "colab_type": "text",
    "id": "vUE0Y0f3XK1P"
   },
   "source": [
    "### Reporte\n",
    "\n",
    "Este debe cumplir la siguiente estructura:\n",
    "\n",
    "1.\t**Introducción**: Presentar brevemente el problema a resolver, los métodos y representaciones utilizadas en el desarrollo de la tarea y conclusiones obtenidas. (0.5 Puntos)\n",
    "2.\t**Representaciones**: Describir los atributos y representaciones usadas como entrada de los clasificadores. Si bien, con Bag of Words (baseline) ya se comienzan a percibir buenos resultados, pueden mejorar su evaluación agregando más atributos y representaciones diseñadas a mano. Mas abajo encontrarán una lista útil de estos que les podrá ser de utilidad. (1.5 puntos)\n",
    "3.\t**Algoritmos**: Describir brevemente los algoritmos de clasificación usados. (0.5 puntos)\n",
    "4.\t**Métricas de evaluación**: Describir brevemente las métricas utilizadas en la evaluación indicando que miden y su interpretación. (0.5 puntos)\n",
    "5.\t**Experimentos**: Reportar todos sus experimentos. Comparar los resultados obtenidos utilizando diferentes algoritmos y representaciones. Estos experimentos los hacen sobre la sub-partición de evaluación que deben crear (o pueden usar cross-validation). Incluyan todo el código de sus experimentos aquí. ¡Es vital haber realizado varios experimentos para sacar una buena nota! (2 puntos)\n",
    "6.\t**Conclusiones**: Discutir resultados, proponer trabajo futuro. (1 punto)"
   ]
  },
  {
   "cell_type": "markdown",
   "metadata": {
    "ExecuteTime": {
     "end_time": "2019-08-21T19:18:43.301002Z",
     "start_time": "2019-08-21T19:18:43.298037Z"
    },
    "colab_type": "text",
    "id": "DuCEFL_aXK1Q"
   },
   "source": [
    "### Baseline\n",
    "\n",
    "Por último, el baseline contiene un código básico que:\n",
    "\n",
    "- Obtiene los dataset.\n",
    "- Divide los datasets en train (entrenamiento y prueba) y target set (el que clasificar para subir a la competencia).\n",
    "- Crea un Pipeline que: \n",
    "    - Crea features personalizadas.\n",
    "    - Transforma los dataset a bag of words (BoW).  \n",
    "    - Entrena un clasificador usando cada train set.\n",
    "- Clasifica y evalua el sistema creado usando el test set.\n",
    "- Clasifica el target set.\n",
    "- Genera una submission con el target en formato zip en el directorio en donde se está ejecutando el notebook. \n",
    "\n",
    "\n",
    "Algunas pistas sobre como mejorar el rendimiento de los sistemas que creen. (Esto tendrá mas sentido cuando vean el código)\n",
    "\n",
    "- **Vectorizador**: investigar los modulos de `nltk`, en particular, `TweetTokenizer`, `mark_negation` para reemplazar los tokenizadores. También, el parámetro `ngram_range` (Ojo que el clf naive bayes no debería usarse con n-gramas, ya que rompe el supuesto de independencia). Además, implementar los atributos que crean útiles desde el listado del el enunciado. Investigar también el vectorizador tf-idf.\n",
    "\n",
    "- **Clasificador**: investigar otros clasificadores mas efectivos que naive bayes. Estos deben poder retornar la probabilidad de pertenecia de las clases (ie: implementar la función `predict_proba`).\n",
    "\n",
    "- **Features**: Recuerden que pueden implementar todas las features que se les ocurra! Aquí les adjuntamos algunos ejemplos:\n",
    "    -\tWord n-grams.\n",
    "    -\tCharacter n-grams. \n",
    "    -\tPart-of-speech tags.\n",
    "    -\tSentiment Lexicons (Lexicon = A set of words with a label or associated value.).\n",
    "        - Count the number of positive and negative words within a sentence.\n",
    "        - If the lexicon has associated intensity of feeling (for example in a decimal), then take the average of the intensity of the sentence according to the feeling, the sum, etc.\n",
    "        -\tA good lexicon of sentiment: [Bing Liu](http://www.cs.uic.edu/~liub/FBS/opinion-lexicon-English.rar) \n",
    "        - A reference with a lot of [sentiment lexicons](https://medium.com/@datamonsters/sentiment-analysis-tools-overview-part-1-positive-and-negative-words-databases-ae35431a470c). \n",
    "    -\tThe number of elongated words (words with one character repeated more than two times).\n",
    "    -\tThe number of words with all characters in uppercase.\n",
    "    -\tThe presence and the number of positive or negative emoticons.\n",
    "    -\tThe number of individual negations.\n",
    "    -\tThe number of contiguous sequences of dots, question marks and exclamation marks.\n",
    "    -\tWord Embeddings: Here are some good ideas on how to use them.\n",
    "    https://stats.stackexchange.com/questions/221715/apply-word-embeddings-to-entire-document-to-get-a-feature-vector\n",
    "\n",
    "- **Reducción de dimensionalidad**: También puede serles de ayuda. Referencias [aquí](https://scikit-learn.org/stable/modules/unsupervised_reduction.html).\n",
    "\n",
    "- Por último, pueden encontrar mas referencias de cómo mejorar sus features, el vectorizador y el clasificador [aquí](https://affectivetweets.cms.waikato.ac.nz/benchmark/)."
   ]
  },
  {
   "cell_type": "markdown",
   "metadata": {
    "ExecuteTime": {
     "end_time": "2020-04-07T15:25:19.677190Z",
     "start_time": "2020-04-07T15:25:19.671206Z"
    },
    "colab_type": "text",
    "id": "DdS9xmSWXK1Q"
   },
   "source": [
    "(Pueden eliminar cualquier celda con instrucciones...)\n",
    "\n",
    "**Importante**: Recuerden poner su nombre y el de su usuario o de equipo (en caso de que aplique) tanto en el reporte. NO serán evaluados Notebooks sin nombre."
   ]
  },
  {
   "cell_type": "markdown",
   "metadata": {
    "colab_type": "text",
    "id": "GFhbF8WvXK1R"
   },
   "source": [
    "----------------------------------------\n",
    "\n",
    "(borrar este bloque despues)\n",
    "1.\t**Introducción**: Presentar brevemente el problema a resolver, los métodos y representaciones utilizadas en el desarrollo de la tarea y conclusiones obtenidas. (0.5 Puntos)\n",
    "2.\t**Representaciones**: Describir los atributos y representaciones usadas como entrada de los clasificadores. Si bien, con Bag of Words (baseline) ya se comienzan a percibir buenos resultados, pueden mejorar su evaluación agregando más atributos y representaciones diseñadas a mano. Mas abajo encontrarán una lista útil de estos que les podrá ser de utilidad. (1.5 puntos)\n",
    "3.\t**Algoritmos**: Describir brevemente los algoritmos de clasificación usados. (0.5 puntos)\n",
    "4.\t**Métricas de evaluación**: Describir brevemente las métricas utilizadas en la evaluación indicando que miden y su interpretación. (0.5 puntos)\n",
    "5.\t**Experimentos**: Reportar todos sus experimentos. Comparar los resultados obtenidos utilizando diferentes algoritmos y representaciones. Estos experimentos los hacen sobre la sub-partición de evaluación que deben crear (o pueden usar cross-validation). Incluyan todo el código de sus experimentos aquí. ¡Es vital haber realizado varios experimentos para sacar una buena nota! (2 puntos)\n",
    "6.\t**Conclusiones**: Discutir resultados, proponer trabajo futuro. (1 punto)"
   ]
  },
  {
   "cell_type": "markdown",
   "metadata": {
    "ExecuteTime": {
     "end_time": "2020-03-31T13:34:25.683540Z",
     "start_time": "2020-03-31T13:34:25.673430Z"
    },
    "colab_type": "text",
    "id": "pmH9j-eYXK1S"
   },
   "source": [
    "## 1. Introducción"
   ]
  },
  {
   "cell_type": "markdown",
   "metadata": {
    "colab_type": "text",
    "id": "f_d8xLu1XK1T"
   },
   "source": [
    "El problema a abordar en este trabajo es el análisis de sentimientos de tweets. Se tiene un dataset de tweets clasificados por sentimiento (joy, fear, sadness, anger), y en cada sentimiento, a su vez, los tweets se clasifican por intensidad (alto, medio o bajo).\n",
    "\n",
    "Para resolver este problema, se utilizan distintas representaciones de los datos, tales como Bag Of Words, la representación Tf-Idf, Word Embeddings, y también se extraen características relevantes de los textos, como por ejemplo la cantidad de signos de exclamación que contengan.\n",
    "\n",
    "Una vez convertidos los textos a su representación, se utilizan métodos de NaiveBayes y SVM para clasificar el nivel de sentimiento en cada clase.\n",
    "\n",
    "A partir de este trabajo, se concluye que...."
   ]
  },
  {
   "cell_type": "markdown",
   "metadata": {
    "ExecuteTime": {
     "end_time": "2020-03-31T13:47:13.474238Z",
     "start_time": "2020-03-31T13:47:13.454068Z"
    },
    "colab_type": "text",
    "id": "NJ2NBZFSXK1U"
   },
   "source": [
    "## 2. Representaciones"
   ]
  },
  {
   "cell_type": "markdown",
   "metadata": {
    "ExecuteTime": {
     "end_time": "2020-03-31T13:47:17.719268Z",
     "start_time": "2020-03-31T13:47:17.709207Z"
    },
    "colab_type": "text",
    "id": "Bl1LMOz6XK1W"
   },
   "source": [
    "Se implementan distintas representaciones de los textos, mediante las siguientes clases:\n",
    "\n",
    "   \n",
    "- **CountVectorizer** \\\n",
    "    Consiste en una representación de los textos en Bag of Words.\n",
    "    \n",
    "- **TfidfVectorizer**\\\n",
    "    Calcula la matriz Tf-Idf asociada al dataset. El algoritmo funciona sobre un tokenizer el cual por defecto se realiza separando solamente las palabras del tweet en este caso. Se puede utilizar con distintos Tokenizers, en esta tarea se prueba un caso con el TweetTokenizer de la librería nltk.\n",
    "    \n",
    "- **TweetTokenizer**\\\n",
    "    Es un tokenizer pre-definido de la librería nltk, el cual reconoce carácteres especiales de los mensajes de Twitter como emojis en símbolos o puntutación, incluso hashtags.\n",
    "    \n",
    "\n",
    "- **CharCountTransformer**: \\\n",
    "    Esta representación considera una serie de conteos \"manuales\" implementados a continuación. Esta incluye:\n",
    "    - **Caracteres relevantes dentro del texto**, tales como:\n",
    "        - Cantidad de signos de exclamación\n",
    "        - Cantidad de signos de interrogación\n",
    "        - Cantidad de letras repetidas más de tres veces\n",
    "        - Cantidad de letras en mayúscula\n",
    "        - Cantidad de puntos seguidos \n",
    "    - Se utiliza la librería _emoji_ para codificar los emojis de los tweets, y la librería _emosent_ para extraer un sentiment score del emoji, además de la polaridad del sentimiento. Cabe destacar que existen algunos emojis que no están en la librería _emosent_, por lo que fue necesario evaluar su polaridad bajo inspección, y evaluar si el nombre del emoji contiene palabras positivas o negativas.\n",
    "    - Además, se marcan previamente las palabras que siguen a una negación, concatenando el string \\_NEG luego de la palabra, para que sea considerada diferente a la misma palabra, pero en un contexto positivo.\n",
    " \n",
    "- **Doc2VecTransformer** \\\n",
    "    Word embeddings con el modelo _glove_twitter_ ya entrenado. Se considera el máximo de cada tweet, considerando que se quiere realizar un análisis de sentimientos, y otras operaciones como suma o promedio podrían causar una pérdida de información.\n",
    "    \n",
    "- **LiuFeatureExtractor**\\\n",
    "    Extrae la cantidad de palabras positivas y palabras negativas, usando el dataset de Bing Liu.\n",
    "\n",
    "- **VaderFeatureExtractor**\\\n",
    "    https://github.com/cjhutto/vaderSentiment"
   ]
  },
  {
   "cell_type": "markdown",
   "metadata": {
    "colab_type": "text",
    "id": "_H6tUAGPXK1Y"
   },
   "source": [
    "## 3. Algoritmos"
   ]
  },
  {
   "cell_type": "markdown",
   "metadata": {
    "colab_type": "text",
    "id": "P1P0yclvXK1Z"
   },
   "source": [
    "Los algoritmos utilizados en este trabajo son:\n",
    "\n",
    "- **Naive Bayes**\n",
    "\n",
    "- **SVM**"
   ]
  },
  {
   "cell_type": "markdown",
   "metadata": {
    "ExecuteTime": {
     "end_time": "2020-03-31T13:47:52.064631Z",
     "start_time": "2020-03-31T13:47:52.044451Z"
    },
    "colab_type": "text",
    "id": "KkGR_Y9qXK1a"
   },
   "source": [
    "## 4. Métricas de Evaluación"
   ]
  },
  {
   "cell_type": "markdown",
   "metadata": {
    "colab_type": "text",
    "id": "lvQGaiqaXK1b"
   },
   "source": [
    "- AUC: es una métrica que mide la capacidad del modelo de distinguir entre clases variando el threshold de separación, es decir, la probabilidad con la que se considera la pertenencia a una clase. En la imagen inferior obtenida de [towardsdatascience.com](https://towardsdatascience.com/understanding-auc-roc-curve-68b2303cc9c5), se muestra una separación entre las distribuciones de probabilidad de cada clase y la ROC resultante al mover el threshold.\n",
    "\n",
    "<img src=\"./img_asg1/roc_sep_td.png\" alt=\"Drawing\" style=\"width: 450px;\" align=\"left\"/><img src=\"./img_asg1/roc_td.png\" alt=\"Drawing\" style=\"width: 210px;\" align=\"left\"/>\n",
    "\n",
    "En este caso, las distribuciones de probabilidad son dadas por el modelo, y el threshold de separación es el que se varía para obtener la ROC y su consecuente AUC. Si el threshold se mueve, es un desplazamiento en la curva ROC. Si el threshold se mueve hacia la izquierda, se aumenta en TPR y FPR, es decir, el método detecta más fácilmente los positivos (o toma todos como positivos) pero dejando pasar muchos falsos positivos, ya que se disminuye la exigencia para ser positivo, resultando en subir en la curva ROC. Si se aumenta la exigencia para detectar reales positivos, se desplaza bajando por la ROC, teniendo menor tasa de reales positivos y por lo tanto, también de falsos positivos.\n",
    "\n",
    "En este caso, se tiene que la AUC es 0.7, es decir, el modelo tiene un 70% de probabilidad de distinguir entre reales positivos y falsos positivos por clase. En el caso de multiclases, se realiza una heurística de uno versus todos para calcular las probabilidades.\n",
    "\n",
    "En este caso, para el cálculo del modelo, se realiza un promedio ponderado de las AUC para las clases bajo, medio y alto. Luego, se realiza un promedio de los AUC entre las clases de sentimientos.\n",
    "    \n",
    "- Kappa: El coeficiente Cohen's Kappa es un estadístico de la capacidad del modelo de \"estar de acuerdo\" con otro anotador o clasificador, en este caso, con el anotador de los labels que consideramos reales. Para calcular el coeficiente de Kappa, se ve la matriz de confusión y se realiza un cálculo de haber clasificado correctamente solamente por coincidencia. Para ello se calcula el accuracy del modelo, es decir, la suma de la diagonal sobre la traza de la matriz de confusión, y se le resta las correctas por coincidencia. Este último, según el canal [MINT TMS Tutorials by Christian Hollmann](https://youtu.be/fOR_8gkU3UE), se calcula como la cantidad de positivos según el modelo, sobre el total de muestras, por la cantidad de positivos según nuestros labels, sobre el total de muestras; más la cantidad de negativos según el modelo sobre el total de muestras, por la cantidad de negativos según los labels sobre el total de muestras. El coeficiente de Kappa se calcula como:\n",
    "\n",
    "$$K = \\frac{0A - AC}{1 - AC}$$\n",
    "\n",
    "Donde $0A$ es el accuracy obtenido, y $AC$ es la probabilida de haberle acertado por coincidencia. Un coeficiente de Cohen Kappa superior a 0.8 indica un buen rendimiento del modelo sobre haberle acertado por coincidencia. Mientras que un coeficiente inferior o negativo, indica un mal rendimiento del modelo.\n",
    "\n",
    "- Accuracy: El accuracy es el coeficiente de evaluación más usado para evaluar a un modelo. Con él se calcula el nivel de acuerdo que tiene el modelo con los labels considerados reales, se calcula como la suma de la diagonal de la matriz de confusión sobre el total de las muestras consideradas en la evaluación. Mientras más cercano a 1 quire decir que el modelo se parece más a los labels considerados reales, mientras que un accuracy 0, quiere decir que el modelo no pudo predecir correctamente ninguna etiqueta.\n"
   ]
  },
  {
   "cell_type": "markdown",
   "metadata": {
    "colab_type": "text",
    "id": "dBu_sP0KXK1b"
   },
   "source": [
    "## 5. Experimentos"
   ]
  },
  {
   "cell_type": "markdown",
   "metadata": {
    "colab_type": "text",
    "id": "IGBQNys8XK1c"
   },
   "source": [
    "..."
   ]
  },
  {
   "cell_type": "markdown",
   "metadata": {
    "ExecuteTime": {
     "end_time": "2020-03-31T13:31:40.023344Z",
     "start_time": "2020-03-31T13:31:40.003541Z"
    },
    "colab_type": "text",
    "id": "ul8vukH2XK1d"
   },
   "source": [
    "### Importar librerías y utiles"
   ]
  },
  {
   "cell_type": "code",
   "execution_count": 115,
   "metadata": {
    "ExecuteTime": {
     "end_time": "2020-04-07T15:44:20.587160Z",
     "start_time": "2020-04-07T15:44:19.319386Z"
    },
    "colab": {},
    "colab_type": "code",
    "id": "68Lt-v5IXK1e"
   },
   "outputs": [],
   "source": [
    "import pandas as pd\n",
    "import os\n",
    "import numpy as np\n",
    "import shutil\n",
    "\n",
    "from sklearn.feature_extraction.text import CountVectorizer, TfidfVectorizer\n",
    "from sklearn.naive_bayes import MultinomialNB\n",
    "from sklearn.svm import SVC\n",
    "from sklearn.linear_model import LogisticRegression\n",
    "from sklearn.neural_network import MLPClassifier\n",
    "from sklearn.pipeline import Pipeline, FeatureUnion\n",
    "from sklearn.metrics import confusion_matrix, cohen_kappa_score, classification_report, accuracy_score, roc_auc_score\n",
    "from sklearn.model_selection import train_test_split\n",
    "from sklearn.base import BaseEstimator, TransformerMixin\n",
    "from nltk.tokenize import TweetTokenizer\n",
    "from nltk.sentiment.util import mark_negation\n",
    "from nltk.sentiment import SentimentIntensityAnalyzer\n",
    "from nltk.corpus import opinion_lexicon, stopwords\n",
    "from nltk.stem import SnowballStemmer, WordNetLemmatizer\n",
    "\n",
    "# !pip install -U emojis\n",
    "# !pip install emosent-py\n",
    "# !pip install emoji --upgrade\n",
    "import emoji\n",
    "import emojis\n",
    "from emosent import get_emoji_sentiment_rank\n",
    "\n",
    "import gensim.downloader as api\n",
    "import string\n",
    "\n",
    "from collections import Counter"
   ]
  },
  {
   "cell_type": "code",
   "execution_count": 116,
   "metadata": {},
   "outputs": [],
   "source": [
    "import nltk\n",
    "# nltk.download('opinion_lexicon')\n",
    "# nltk.download('vader_lexicon')\n",
    "# nltk.download('stopwords')\n",
    "# nltk.download('punkt')\n",
    "# nltk.download('wordnet')"
   ]
  },
  {
   "cell_type": "code",
   "execution_count": 117,
   "metadata": {},
   "outputs": [],
   "source": [
    "# !pip install -U textblob\n",
    "# !python -m textblob.download_corpora\n",
    "from textblob import TextBlob "
   ]
  },
  {
   "cell_type": "code",
   "execution_count": 118,
   "metadata": {},
   "outputs": [
    {
     "data": {
      "text/plain": [
       "0.7"
      ]
     },
     "execution_count": 118,
     "metadata": {},
     "output_type": "execute_result"
    }
   ],
   "source": [
    "analysis = TextBlob('good')\n",
    "analysis.sentiment.polarity"
   ]
  },
  {
   "cell_type": "code",
   "execution_count": 119,
   "metadata": {
    "colab": {},
    "colab_type": "code",
    "id": "mPtqQdif8BC3"
   },
   "outputs": [],
   "source": [
    "negative_words = pd.read_csv('https://raw.githubusercontent.com/MartinVIllesca/CC6205-Procesamiento-de-Lenguaje-Natural/master/data_t1/opinion-lexicon-English/negative-words.csv',\n",
    "                             sep='\\n', header=None, error_bad_lines=False)\n",
    "positive_words = pd.read_csv('https://raw.githubusercontent.com/MartinVIllesca/CC6205-Procesamiento-de-Lenguaje-Natural/master/data_t1/opinion-lexicon-English/positive-words.csv',\n",
    "                             sep='\\n', header=None, error_bad_lines=False)\n",
    "\n",
    "positive_words = np.hstack((list(positive_words),\n",
    "                            'hugging_face',\n",
    "                            'popcorn'))\n",
    "negative_words = np.hstack((list(negative_words),\n",
    "                            'spider',\n",
    "                            'face_with_head-bandage',\n",
    "                            'upside-down_face',\n",
    "                            'face_with_rolling_eyes',\n",
    "                            'zipper-mouth_face',\n",
    "                            'slightly_frowning_face'))"
   ]
  },
  {
   "cell_type": "code",
   "execution_count": 120,
   "metadata": {},
   "outputs": [],
   "source": [
    "# limpiar puntuaciones y separar por tokens.\n",
    "punctuation = string.punctuation + \"«»“”‘’…—\"\n",
    "stopwords = pd.read_csv(\n",
    "    'https://raw.githubusercontent.com/Alir3z4/stop-words/master/english.txt'\n",
    ").values\n",
    "stopwords = Counter(stopwords.flatten().tolist())"
   ]
  },
  {
   "cell_type": "code",
   "execution_count": 121,
   "metadata": {},
   "outputs": [
    {
     "name": "stderr",
     "output_type": "stream",
     "text": [
      "5877 | INFO | loading projection weights from /home/jouhui/gensim-data/glove-twitter-25/glove-twitter-25.gz\n",
      "5877 | INFO | loaded (1193514, 25) matrix from /home/jouhui/gensim-data/glove-twitter-25/glove-twitter-25.gz\n"
     ]
    }
   ],
   "source": [
    "# Doc2Vec Model\n",
    "glove_twitter = api.load(\"glove-twitter-25\")  # download the model and return as object ready for use\n",
    "# glove_twitter.most_similar(\"cat\")\n",
    "\n",
    "stemmer = SnowballStemmer('english')\n",
    "lemmatizer = WordNetLemmatizer() "
   ]
  },
  {
   "cell_type": "markdown",
   "metadata": {
    "colab_type": "text",
    "id": "sib6XRh6XK1u"
   },
   "source": [
    "### Definir métodos de evaluación\n",
    "\n",
    "Estas funciones están a cargo de evaluar los resultados de la tarea. No deberían cambiarlas.\n"
   ]
  },
  {
   "cell_type": "code",
   "execution_count": 122,
   "metadata": {
    "ExecuteTime": {
     "end_time": "2020-04-07T15:44:20.604066Z",
     "start_time": "2020-04-07T15:44:20.589106Z"
    },
    "colab": {},
    "colab_type": "code",
    "id": "N4WVlJ3UXK1v"
   },
   "outputs": [],
   "source": [
    "def auc_score(test_set, predicted_set):\n",
    "    high_predicted = np.array([prediction[2] for prediction in predicted_set])\n",
    "    medium_predicted = np.array(\n",
    "        [prediction[1] for prediction in predicted_set])\n",
    "    low_predicted = np.array([prediction[0] for prediction in predicted_set])\n",
    "    high_test = np.where(test_set == 'high', 1.0, 0.0)\n",
    "    medium_test = np.where(test_set == 'medium', 1.0, 0.0)\n",
    "    low_test = np.where(test_set == 'low', 1.0, 0.0)\n",
    "    auc_high = roc_auc_score(high_test, high_predicted)\n",
    "    auc_med = roc_auc_score(medium_test, medium_predicted)\n",
    "    auc_low = roc_auc_score(low_test, low_predicted)\n",
    "    auc_w = (low_test.sum() * auc_low + medium_test.sum() * auc_med +\n",
    "             high_test.sum() * auc_high) / (\n",
    "                 low_test.sum() + medium_test.sum() + high_test.sum())\n",
    "    return auc_w\n",
    "\n",
    "\n",
    "def evaluate(predicted_probabilities, y_test, labels, dataset_name):\n",
    "    # Importante: al transformar los arreglos de probabilidad a clases,\n",
    "    # entregar el arreglo de clases aprendido por el clasificador.\n",
    "    # (que comunmente, es distinto a ['low', 'medium', 'high'])\n",
    "    predicted_labels = [\n",
    "        labels[np.argmax(item)] for item in predicted_probabilities\n",
    "    ]\n",
    "    print('Confusion Matrix for {}:\\n'.format(dataset_name))\n",
    "    print(\n",
    "        confusion_matrix(y_test,\n",
    "                         predicted_labels,\n",
    "                         labels=['low', 'medium', 'high']))\n",
    "\n",
    "#     print('\\nClassification Report:\\n')\n",
    "#     print(\n",
    "#         classification_report(y_test,\n",
    "#                               predicted_labels,\n",
    "#                               labels=['low', 'medium', 'high']))\n",
    "    # Reorder predicted probabilities array.\n",
    "    labels = labels.tolist()\n",
    "    predicted_probabilities = predicted_probabilities[:, [\n",
    "        labels.index('low'),\n",
    "        labels.index('medium'),\n",
    "        labels.index('high')\n",
    "    ]]\n",
    "    auc = round(auc_score(y_test, predicted_probabilities), 3)\n",
    "    print(\"Scores:\\n\\nAUC: \", auc, end='\\t')\n",
    "    kappa = round(cohen_kappa_score(y_test, predicted_labels), 3)\n",
    "    print(\"Kappa:\", kappa, end='\\t')\n",
    "    accuracy = round(accuracy_score(y_test, predicted_labels), 3)\n",
    "    print(\"Accuracy:\", accuracy)\n",
    "    print('------------------------------------------------------\\n')\n",
    "    return np.array([auc, kappa, accuracy])"
   ]
  },
  {
   "cell_type": "markdown",
   "metadata": {
    "colab_type": "text",
    "id": "C622AbJeXK1z"
   },
   "source": [
    "### Datos\n",
    "\n",
    "Obtener los datasets desde el github del curso"
   ]
  },
  {
   "cell_type": "code",
   "execution_count": 123,
   "metadata": {
    "ExecuteTime": {
     "end_time": "2020-04-07T15:44:21.068137Z",
     "start_time": "2020-04-07T15:44:20.606061Z"
    },
    "colab": {},
    "colab_type": "code",
    "id": "rne8BE61XK10"
   },
   "outputs": [],
   "source": [
    "# Datasets de entrenamiento.\n",
    "train = {\n",
    "    'anger': pd.read_csv('https://raw.githubusercontent.com/dccuchile/CC6205/master/assignments/assignment_1/data/train/anger-train.txt', sep='\\t', names=['id', 'tweet', 'class', 'sentiment_intensity']),\n",
    "    'fear': pd.read_csv('https://raw.githubusercontent.com/dccuchile/CC6205/master/assignments/assignment_1/data/train/fear-train.txt', sep='\\t', names=['id', 'tweet', 'class', 'sentiment_intensity']),\n",
    "    'joy': pd.read_csv('https://raw.githubusercontent.com/dccuchile/CC6205/master/assignments/assignment_1/data/train/joy-train.txt', sep='\\t', names=['id', 'tweet', 'class', 'sentiment_intensity']),\n",
    "    'sadness': pd.read_csv('https://raw.githubusercontent.com/dccuchile/CC6205/master/assignments/assignment_1/data/train/sadness-train.txt', sep='\\t', names=['id', 'tweet', 'class', 'sentiment_intensity'])\n",
    "}\n",
    "# Datasets que deberán predecir para la competencia.\n",
    "target = {\n",
    "    'anger': pd.read_csv('https://raw.githubusercontent.com/dccuchile/CC6205/master/assignments/assignment_1/data/target/anger-target.txt', sep='\\t', names=['id', 'tweet', 'class', 'sentiment_intensity'], na_values=['NONE']),\n",
    "    'fear': pd.read_csv('https://raw.githubusercontent.com/dccuchile/CC6205/master/assignments/assignment_1/data/target/fear-target.txt', sep='\\t', names=['id', 'tweet', 'class', 'sentiment_intensity'], na_values=['NONE']),\n",
    "    'joy': pd.read_csv('https://raw.githubusercontent.com/dccuchile/CC6205/master/assignments/assignment_1/data/target/joy-target.txt', sep='\\t', names=['id', 'tweet', 'class', 'sentiment_intensity'], na_values=['NONE']),\n",
    "    'sadness': pd.read_csv('https://raw.githubusercontent.com/dccuchile/CC6205/master/assignments/assignment_1/data/target/sadness-target.txt', sep='\\t', names=['id', 'tweet', 'class', 'sentiment_intensity'], na_values=['NONE'])\n",
    "}"
   ]
  },
  {
   "cell_type": "code",
   "execution_count": 124,
   "metadata": {
    "ExecuteTime": {
     "end_time": "2020-04-07T15:44:21.088707Z",
     "start_time": "2020-04-07T15:44:21.069757Z"
    },
    "colab": {
     "base_uri": "https://localhost:8080/",
     "height": 359
    },
    "colab_type": "code",
    "id": "X5x06HPdXK14",
    "outputId": "bfbf69ca-c292-4998-f5c3-85c92da0c52f"
   },
   "outputs": [
    {
     "data": {
      "text/html": [
       "<div>\n",
       "<style scoped>\n",
       "    .dataframe tbody tr th:only-of-type {\n",
       "        vertical-align: middle;\n",
       "    }\n",
       "\n",
       "    .dataframe tbody tr th {\n",
       "        vertical-align: top;\n",
       "    }\n",
       "\n",
       "    .dataframe thead th {\n",
       "        text-align: right;\n",
       "    }\n",
       "</style>\n",
       "<table border=\"1\" class=\"dataframe\">\n",
       "  <thead>\n",
       "    <tr style=\"text-align: right;\">\n",
       "      <th></th>\n",
       "      <th>id</th>\n",
       "      <th>tweet</th>\n",
       "      <th>class</th>\n",
       "      <th>sentiment_intensity</th>\n",
       "    </tr>\n",
       "  </thead>\n",
       "  <tbody>\n",
       "    <tr>\n",
       "      <th>80</th>\n",
       "      <td>30080</td>\n",
       "      <td>@jadelalaa_ hahaha and u da best bro ever luv ...</td>\n",
       "      <td>joy</td>\n",
       "      <td>high</td>\n",
       "    </tr>\n",
       "    <tr>\n",
       "      <th>290</th>\n",
       "      <td>30290</td>\n",
       "      <td>Kayaking is merriment together with sevylor in...</td>\n",
       "      <td>joy</td>\n",
       "      <td>medium</td>\n",
       "    </tr>\n",
       "    <tr>\n",
       "      <th>676</th>\n",
       "      <td>30676</td>\n",
       "      <td>@FlannelJedi This is why I drink and watch You...</td>\n",
       "      <td>joy</td>\n",
       "      <td>low</td>\n",
       "    </tr>\n",
       "    <tr>\n",
       "      <th>666</th>\n",
       "      <td>30666</td>\n",
       "      <td>@lennyabrahamson May I send you a copy of #Her...</td>\n",
       "      <td>joy</td>\n",
       "      <td>low</td>\n",
       "    </tr>\n",
       "    <tr>\n",
       "      <th>769</th>\n",
       "      <td>30769</td>\n",
       "      <td>@govph I would like to know about the source o...</td>\n",
       "      <td>joy</td>\n",
       "      <td>low</td>\n",
       "    </tr>\n",
       "    <tr>\n",
       "      <th>524</th>\n",
       "      <td>30524</td>\n",
       "      <td>@CazuaL_WeaR @ScottInSC looks like a book shap...</td>\n",
       "      <td>joy</td>\n",
       "      <td>medium</td>\n",
       "    </tr>\n",
       "    <tr>\n",
       "      <th>186</th>\n",
       "      <td>30186</td>\n",
       "      <td>It's Thursday which means it's Grey's day #TGIT</td>\n",
       "      <td>joy</td>\n",
       "      <td>medium</td>\n",
       "    </tr>\n",
       "    <tr>\n",
       "      <th>441</th>\n",
       "      <td>30441</td>\n",
       "      <td>@carysmithwriter @Maria_Savva @RealRockAndRoll...</td>\n",
       "      <td>joy</td>\n",
       "      <td>medium</td>\n",
       "    </tr>\n",
       "    <tr>\n",
       "      <th>166</th>\n",
       "      <td>30166</td>\n",
       "      <td>@lennyabrahamson May I send you a copy of #Her...</td>\n",
       "      <td>joy</td>\n",
       "      <td>high</td>\n",
       "    </tr>\n",
       "    <tr>\n",
       "      <th>616</th>\n",
       "      <td>30616</td>\n",
       "      <td>@Blancalanka96 thought it'd be fun and it is n...</td>\n",
       "      <td>joy</td>\n",
       "      <td>medium</td>\n",
       "    </tr>\n",
       "  </tbody>\n",
       "</table>\n",
       "</div>"
      ],
      "text/plain": [
       "        id                                              tweet class  \\\n",
       "80   30080  @jadelalaa_ hahaha and u da best bro ever luv ...   joy   \n",
       "290  30290  Kayaking is merriment together with sevylor in...   joy   \n",
       "676  30676  @FlannelJedi This is why I drink and watch You...   joy   \n",
       "666  30666  @lennyabrahamson May I send you a copy of #Her...   joy   \n",
       "769  30769  @govph I would like to know about the source o...   joy   \n",
       "524  30524  @CazuaL_WeaR @ScottInSC looks like a book shap...   joy   \n",
       "186  30186   It's Thursday which means it's Grey's day #TGIT    joy   \n",
       "441  30441  @carysmithwriter @Maria_Savva @RealRockAndRoll...   joy   \n",
       "166  30166  @lennyabrahamson May I send you a copy of #Her...   joy   \n",
       "616  30616  @Blancalanka96 thought it'd be fun and it is n...   joy   \n",
       "\n",
       "    sentiment_intensity  \n",
       "80                 high  \n",
       "290              medium  \n",
       "676                 low  \n",
       "666                 low  \n",
       "769                 low  \n",
       "524              medium  \n",
       "186              medium  \n",
       "441              medium  \n",
       "166                high  \n",
       "616              medium  "
      ]
     },
     "execution_count": 124,
     "metadata": {},
     "output_type": "execute_result"
    }
   ],
   "source": [
    "# Ejemplo de algunas filas aleatorias:\n",
    "train['joy'].sample(10)"
   ]
  },
  {
   "cell_type": "markdown",
   "metadata": {
    "colab_type": "text",
    "id": "oBfMKfpPXK17"
   },
   "source": [
    "### Analizar los datos \n",
    "\n",
    "Imprimir la cantidad de tweets de cada dataset, según su intensidad de sentimiento. Noten que las clases están desbalanceadas. "
   ]
  },
  {
   "cell_type": "code",
   "execution_count": 125,
   "metadata": {
    "ExecuteTime": {
     "end_time": "2020-04-07T15:44:21.117633Z",
     "start_time": "2020-04-07T15:44:21.090703Z"
    },
    "colab": {
     "base_uri": "https://localhost:8080/",
     "height": 561
    },
    "colab_type": "code",
    "id": "ZNibpIBYXK18",
    "outputId": "fdf38c5b-34d5-43fe-848a-2fc549353d2a"
   },
   "outputs": [
    {
     "name": "stdout",
     "output_type": "stream",
     "text": [
      "anger \n",
      "                       id  tweet  class\n",
      "sentiment_intensity                   \n",
      "high                 163    163    163\n",
      "low                  161    161    161\n",
      "medium               617    617    617 \n",
      "---------------------------------------\n",
      "\n",
      "fear \n",
      "                       id  tweet  class\n",
      "sentiment_intensity                   \n",
      "high                 270    270    270\n",
      "low                  288    288    288\n",
      "medium               699    699    699 \n",
      "---------------------------------------\n",
      "\n",
      "joy \n",
      "                       id  tweet  class\n",
      "sentiment_intensity                   \n",
      "high                 195    195    195\n",
      "low                  219    219    219\n",
      "medium               488    488    488 \n",
      "---------------------------------------\n",
      "\n",
      "sadness \n",
      "                       id  tweet  class\n",
      "sentiment_intensity                   \n",
      "high                 197    197    197\n",
      "low                  210    210    210\n",
      "medium               453    453    453 \n",
      "---------------------------------------\n",
      "\n"
     ]
    }
   ],
   "source": [
    "def get_group_dist(group_name, train):\n",
    "    print(group_name, \"\\n\",\n",
    "          train[group_name].groupby('sentiment_intensity').count(),\n",
    "          '\\n---------------------------------------\\n')\n",
    "for dataset_name in train:\n",
    "    get_group_dist(dataset_name, train)"
   ]
  },
  {
   "cell_type": "markdown",
   "metadata": {
    "colab_type": "text",
    "id": "ZY7M2bd7XK2B"
   },
   "source": [
    "### Oversampling"
   ]
  },
  {
   "cell_type": "code",
   "execution_count": 126,
   "metadata": {
    "colab": {},
    "colab_type": "code",
    "id": "RW6ZJUt8XK2J"
   },
   "outputs": [],
   "source": [
    "# train_data = dict()\n",
    "# for group_name in train.keys():\n",
    "#     df = train[group_name]\n",
    "    \n",
    "#     max_size = df.groupby('sentiment_intensity').count()['class'].max()\n",
    "#     lst = [df]\n",
    "#     for class_index, group in df.groupby('sentiment_intensity'):\n",
    "#         oversampled = group.sample(int((max_size-len(group))/2), replace=True)     \n",
    "#         lst.append(oversampled)\n",
    "#     frame_new = pd.concat(lst)\n",
    "    \n",
    "#     train_data[group_name] = frame_new\n",
    "# train = train_data"
   ]
  },
  {
   "cell_type": "code",
   "execution_count": 127,
   "metadata": {
    "colab": {
     "base_uri": "https://localhost:8080/",
     "height": 561
    },
    "colab_type": "code",
    "id": "dpzXG_tQXK2N",
    "outputId": "b1eef3e7-bcd9-4931-d299-f8eb061e474a"
   },
   "outputs": [
    {
     "name": "stdout",
     "output_type": "stream",
     "text": [
      "anger \n",
      "                       id  tweet  class\n",
      "sentiment_intensity                   \n",
      "high                 163    163    163\n",
      "low                  161    161    161\n",
      "medium               617    617    617 \n",
      "---------------------------------------\n",
      "\n",
      "fear \n",
      "                       id  tweet  class\n",
      "sentiment_intensity                   \n",
      "high                 270    270    270\n",
      "low                  288    288    288\n",
      "medium               699    699    699 \n",
      "---------------------------------------\n",
      "\n",
      "joy \n",
      "                       id  tweet  class\n",
      "sentiment_intensity                   \n",
      "high                 195    195    195\n",
      "low                  219    219    219\n",
      "medium               488    488    488 \n",
      "---------------------------------------\n",
      "\n",
      "sadness \n",
      "                       id  tweet  class\n",
      "sentiment_intensity                   \n",
      "high                 197    197    197\n",
      "low                  210    210    210\n",
      "medium               453    453    453 \n",
      "---------------------------------------\n",
      "\n"
     ]
    }
   ],
   "source": [
    "for dataset_name in train:\n",
    "    get_group_dist(dataset_name, train)"
   ]
  },
  {
   "cell_type": "markdown",
   "metadata": {
    "colab_type": "text",
    "id": "G0DXme6NXK2Q"
   },
   "source": [
    "### Custom Features \n",
    "\n",
    "Para crear features personalizadas implementaremos nuestros propios Transformers (estandar de scikit para crear nuevas features entre otras cosas). Para esto:\n",
    "\n",
    "1. Creamos nuestra clase Transformer extendiendo BaseEstimator y TransformerMixin. En este ejemplo, definiremos `CharsCountTransformer` que cuenta carácteres relevantes ('!', '?', '#') en los tweets.\n",
    "2. Definios una función cómo `get_relevant_chars` que opera por cada tweet y retorna un arreglo.\n",
    "3. Hacemos un override de la función `transform` en donde iteramos por cada tweet, llamamos a la función que hicimos antes y agregamos sus resultados a un arrelo. Finalmente lo retornamos.\n",
    "\n",
    "Esto nos facilitará el trabajo mas adelante. Una Guia completa de las transformaciones predefinidas en scikit pueden encontrarla [aquí](https://scikit-learn.org/stable/data_transforms.html).\n",
    "\n"
   ]
  },
  {
   "cell_type": "code",
   "execution_count": 128,
   "metadata": {},
   "outputs": [],
   "source": [
    "class BasicModelArchitecture:\n",
    "    \"\"\"\n",
    "    Basic architecture of transformer classes, contains fit method.\n",
    "    \"\"\"\n",
    "    def fit(self, X, y=None):\n",
    "        \"\"\"\n",
    "        Returns `self` unless something different happens in train and test.\n",
    "        \"\"\"\n",
    "        return self"
   ]
  },
  {
   "cell_type": "code",
   "execution_count": 129,
   "metadata": {
    "ExecuteTime": {
     "end_time": "2020-04-07T15:44:21.128600Z",
     "start_time": "2020-04-07T15:44:21.119624Z"
    },
    "colab": {},
    "colab_type": "code",
    "id": "CrNM4IewXK2R"
   },
   "outputs": [],
   "source": [
    "class CharsCountTransformer(BaseEstimator, TransformerMixin, BasicModelArchitecture):\n",
    "    \"\"\"\n",
    "    Count relevant chars, emojis, repeated chars and dots, and do mark_negation.\n",
    "    \"\"\"\n",
    "    def __init(self):\n",
    "        super(CharsCountTransformer, self).__init__()\n",
    "    \n",
    "    def get_relevant_chars(self, tweet):\n",
    "        num_hashtags = tweet.count('#')\n",
    "        num_exclamations = tweet.count('!')\n",
    "        num_interrogations = tweet.count('?')\n",
    "        num_uppercases = sum(1 for c in tweet if c.isupper())  \n",
    "        num_repeated_chars = self.count_repeated_chars(tweet)\n",
    "        num_repeated_dots = self.count_repeated_dots(tweet)\n",
    "        \n",
    "        return [num_hashtags, num_exclamations, num_interrogations,\n",
    "                num_uppercases, num_repeated_chars, num_repeated_dots]\n",
    "    \n",
    "    def get_emojis(self, tweet):\n",
    "        \"\"\"\n",
    "        Get number, sentiment_score, and polarity of emojis.\n",
    "        \"\"\"\n",
    "        emojis_list = [c for c in tweet if c in emoji.UNICODE_EMOJI]\n",
    "        positive, negative, neutral, sent_score, type_pos, type_neg = 0, 0, 0, 0, 0, 0\n",
    "        no_pesca = 0\n",
    "        for emoj in emojis_list:\n",
    "            try:\n",
    "                em = get_emoji_sentiment_rank(emoj)\n",
    "#                 positive += em['positive']\n",
    "#                 negative += em['negative']\n",
    "#                 neutral += em['neutral']\n",
    "                sent_score += abs(em['sentiment_score'])\n",
    "                if em['sentiment_score']>0:\n",
    "                    type_pos += 1\n",
    "                else:\n",
    "                    type_neg += 1\n",
    "                    \n",
    "            # if get_emoji_sentiment_rank doesn't recognize the emoji\n",
    "            except:  \n",
    "                emoji_name = emoji.UNICODE_EMOJI.get(emoj)[1:-1]\n",
    "                if emoji_name in positive_words:\n",
    "                    type_pos += 1\n",
    "                    continue\n",
    "                elif emoji_name in negative_words:\n",
    "                    type_neg += 1\n",
    "                    continue\n",
    "                else:\n",
    "                    # Evaluate by words\n",
    "                    for idx, w in enumerate(emoji_name.split('_')):\n",
    "                        if w in positive_words:\n",
    "                            type_pos += 1\n",
    "                            break\n",
    "                        elif w in negative_words:\n",
    "                            type_neg += 1\n",
    "                            break\n",
    "        # Igual sigue trucho, porque solo considera la informacion de si el emoji es positivo o negativo\n",
    "        # pero el emoji va a tener sent_score = 0, no seria tan comparable con los emojis que \n",
    "        # sí eran compatibles y no necesitaron esta trucheria, por lo que sí tienen sent_score\n",
    "        return [len(emojis_list), sent_score, type_pos, type_neg]\n",
    "\n",
    "    def neg_transform(self, X):\n",
    "        \"\"\"\n",
    "        Append '_NEG' to all words after a negation.\n",
    "        \"\"\"\n",
    "        converted = []\n",
    "        for tweet in X:\n",
    "            neg = mark_negation(tweet.split(' '))\n",
    "            sentence = ' '.join(word for word in neg)\n",
    "            converted.append(sentence)\n",
    "        return converted\n",
    "    \n",
    "    def count_repeated_chars(self, tweet):\n",
    "        \"\"\"\n",
    "        Count number of more than twice repeated chars ( >= three times).\n",
    "        \"\"\"\n",
    "        c_prev = tweet[0]\n",
    "        counter = 0\n",
    "        twice = False\n",
    "        for c in tweet[1:]:\n",
    "            if c==c_prev:\n",
    "                if twice:\n",
    "                    counter += 1\n",
    "                twice = True\n",
    "            else:\n",
    "                twice = False\n",
    "            c_prev = c\n",
    "        return counter\n",
    "    \n",
    "    def count_repeated_dots(self, tweet):\n",
    "        \"\"\"\n",
    "        Count number of contiguous dots.\n",
    "        \"\"\"\n",
    "        counter = 0\n",
    "        prev_is_dot = False\n",
    "        for c in tweet[1:]:\n",
    "            if c == '.':\n",
    "                if prev_is_dot:\n",
    "                    counter += 1\n",
    "                else:\n",
    "                    prev_is_dot = True\n",
    "            else:\n",
    "                prev_is_dot = False\n",
    "        return counter\n",
    "    \n",
    "    def transform(self, X, y=None):\n",
    "        chars = []\n",
    "        X_neg = self.neg_transform(X)\n",
    "        for tweet in X_neg:\n",
    "            features = np.hstack((self.get_relevant_chars(tweet),\n",
    "                                  self.get_emojis(tweet)))\n",
    "            chars.append(features)\n",
    "        return np.array(chars)"
   ]
  },
  {
   "cell_type": "code",
   "execution_count": 130,
   "metadata": {},
   "outputs": [],
   "source": [
    "class LiuFeatureExtractor(BaseEstimator, TransformerMixin, BasicModelArchitecture):\n",
    "    \"\"\"\n",
    "    Takes in a corpus of tweets and calculates features using Bing Liu's lexicon.\n",
    "    \"\"\"\n",
    "\n",
    "    def __init__(self, tokenizer):\n",
    "        super(LiuFeatureExtractor, self).__init__()\n",
    "        self.tokenizer = tokenizer\n",
    "        self.pos_set = set(opinion_lexicon.positive())\n",
    "        self.neg_set = set(opinion_lexicon.negative())\n",
    "\n",
    "    def liu_score(self,sentence):\n",
    "        \"\"\"\n",
    "        Calculates the number of positive and negative words in the sentence using Bing Liu's Lexicon.\n",
    "        \"\"\" \n",
    "        tokenized_sent = self.tokenizer.tokenize(sentence)\n",
    "        pos_words = 0\n",
    "        neg_words = 0\n",
    "        for word in tokenized_sent:\n",
    "            if word in self.pos_set:\n",
    "                pos_words += 1\n",
    "            elif word in self.neg_set:\n",
    "                neg_words += 1\n",
    "        return [pos_words,neg_words]\n",
    "\n",
    "    def transform(self, X, y=None):\n",
    "        \"\"\"\n",
    "        Applies liu_score on a data.frame containing tweets.\n",
    "        \"\"\"\n",
    "        values = []\n",
    "        for tweet in X:\n",
    "            values.append(self.liu_score(tweet))\n",
    "\n",
    "        return(np.array(values))"
   ]
  },
  {
   "cell_type": "code",
   "execution_count": 131,
   "metadata": {},
   "outputs": [],
   "source": [
    "class VaderFeatureExtractor(BaseEstimator, TransformerMixin, BasicModelArchitecture):\n",
    "    \"\"\"\n",
    "    Takes in a corpus of tweets and calculates features using the Vader method.\n",
    "    \"\"\"\n",
    "\n",
    "    def __init__(self, tokenizer):\n",
    "        super(VaderFeatureExtractor, self).__init__()\n",
    "        self.tokenizer = tokenizer\n",
    "        self.sid = SentimentIntensityAnalyzer()\n",
    "\n",
    "\n",
    "    def vader_score(self,sentence):\n",
    "        \"\"\"\n",
    "        Calculates sentiment scores for a sentence using the Vader method.\n",
    "        \"\"\"\n",
    "        pol_scores = self.sid.polarity_scores(sentence)\n",
    "        return(list(pol_scores.values()))\n",
    "\n",
    "    def transform(self, X, y=None):\n",
    "        \"\"\"\n",
    "        Applies vader_score on a data.frame containing tweets.\n",
    "        \"\"\"\n",
    "        values = []\n",
    "        for tweet in X:\n",
    "            values.append(self.vader_score(tweet))\n",
    "\n",
    "        return(np.array(values))"
   ]
  },
  {
   "cell_type": "code",
   "execution_count": 132,
   "metadata": {},
   "outputs": [],
   "source": [
    "class TextBlobTransformer(BaseEstimator, TransformerMixin, BasicModelArchitecture):\n",
    "    \"\"\"\n",
    "    Sentiment Analysis using TextBlob.\n",
    "    \"\"\"\n",
    "    def __init__ (self):\n",
    "        super(TextBlobTransformer, self).__init__()\n",
    "    \n",
    "    def transform(self, X, y=None):\n",
    "        sent_pol = [TextBlob(doc).sentiment.polarity for doc in X]\n",
    "        return np.array([sent_pol]).T"
   ]
  },
  {
   "cell_type": "code",
   "execution_count": 133,
   "metadata": {
    "ExecuteTime": {
     "end_time": "2020-04-07T15:44:21.145564Z",
     "start_time": "2020-04-07T15:44:21.131593Z"
    },
    "colab": {
     "base_uri": "https://localhost:8080/",
     "height": 359
    },
    "colab_type": "code",
    "id": "fxw0rq1bXK2V",
    "outputId": "b1bed430-709a-4feb-cd2a-bae1f1ff0b22",
    "scrolled": true
   },
   "outputs": [],
   "source": [
    "# Veamos que sucede si ejecutamos el transformer\n",
    "# sample = train['joy'].sample(200).tweet\n",
    "# sample = train['fear'].tweet\n",
    "# test = pd.DataFrame(zip(sample, TwTokenizer().transform(sample)))\n",
    "# print(test.loc[0][1].mean())\n",
    "# test.head()"
   ]
  },
  {
   "cell_type": "markdown",
   "metadata": {},
   "source": [
    "## Doc2Vec"
   ]
  },
  {
   "cell_type": "code",
   "execution_count": 134,
   "metadata": {},
   "outputs": [],
   "source": [
    "class Doc2VecTransformer(BaseEstimator, TransformerMixin, BasicModelArchitecture):\n",
    "    \"\"\" Transforma tweets a representaciones vectoriales usando algún modelo de Word Embeddings.\n",
    "    \"\"\"\n",
    "    \n",
    "    def __init__(self, model, aggregation_func, tokenizer, do_stem=False, do_lemmatize=False,\n",
    "                 remove_stopwords=False):\n",
    "        # extraemos los embeddings desde el objeto contenedor. ojo con esta parte.\n",
    "        self.model = model.wv \n",
    "        self.tokenizer = tokenizer\n",
    "        self.remove_stopwords = remove_stopwords\n",
    "        self.do_stem = do_stem\n",
    "        self.do_lemmatize = do_lemmatize\n",
    "        \n",
    "        # indicamos la función de agregación (np.min, np.max, np.mean, np.sum, ...)\n",
    "        self.aggregation_func = aggregation_func\n",
    "\n",
    "    def simple_tokenizer(self, doc, remove_stopwords=False, lower=False):\n",
    "        \"\"\"Tokenizador. Elimina signos de puntuación, lleva las letras a minúscula(opcional) y \n",
    "           separa el tweet por espacios.\n",
    "        \"\"\"\n",
    "        tokens = self.tokenizer.tokenize(doc)\n",
    "        final_tokens = []\n",
    "        for t in tokens:\n",
    "            try:\n",
    "                if t[0]=='#':  # Convert hashtags\n",
    "                    t = t[1:]\n",
    "            except:\n",
    "                print('Except', doc)\n",
    "            if remove_stopwords:\n",
    "                if t.lower() in stopwords:\n",
    "                    continue\n",
    "            final_tokens.append(t)\n",
    "        \n",
    "        return final_tokens\n",
    "    \n",
    "    def stem(self, doc):  \n",
    "        doc = stemmer.stem(doc)\n",
    "        return doc\n",
    "    \n",
    "    def lemmatize(self, doc):\n",
    "        \n",
    "        doc = lemmatizer.lemmatize(doc)\n",
    "        return doc\n",
    "        \n",
    "#         if lower:\n",
    "#             doc.translate(str.maketrans('', '', string.punctuation)).lower().split()\n",
    "#         return doc.translate(str.maketrans('', '', string.punctuation)).split()\n",
    "\n",
    "    def transform(self, X, y=None):\n",
    "        \n",
    "        doc_embeddings = []\n",
    "        no_embeddings = False\n",
    "        for doc in X:\n",
    "            # tokenizamos el documento. Se llevan todos los tokens a minúscula. \n",
    "            # ojo con esto, ya que puede que tokens con minúscula y mayúscula tengan\n",
    "            # distintas representaciones\n",
    "            \n",
    "            tokens = self.simple_tokenizer(doc, self.remove_stopwords) \n",
    "    \n",
    "            selected_wv = []\n",
    "            for token in tokens:\n",
    "                token = token.lower()\n",
    "                \n",
    "                # Stem or lemmatize\n",
    "                if self.do_stem:\n",
    "                    token = self.stem(token)\n",
    "                elif self.do_lemmatize:\n",
    "                    token = self.lemmatize(token)\n",
    "                \n",
    "                if token in self.model.vocab:\n",
    "                    selected_wv.append(self.model[token])\n",
    "                    \n",
    "            # si seleccionamos por lo menos un embedding para el tweet, lo agregamos y luego lo añadimos.\n",
    "            if len(selected_wv) > 0:\n",
    "                doc_embedding = self.aggregation_func(np.array(selected_wv), axis=0)\n",
    "                doc_embeddings.append(doc_embedding)\n",
    "            # si no, añadimos un vector de ceros que represente a ese documento.\n",
    "            else: \n",
    "                if not no_embeddings:\n",
    "                    print('Couldnt find any embedding for tweet:')\n",
    "                    no_embeddings = True\n",
    "                print(doc)\n",
    "                doc_embeddings.append(np.zeros(self.model.vector_size)) # la dimension del modelo \n",
    "\n",
    "        return np.array(doc_embeddings)"
   ]
  },
  {
   "cell_type": "markdown",
   "metadata": {
    "colab_type": "text",
    "id": "N4mLu9iYXK2Z"
   },
   "source": [
    "### Definir la representación y el clasificador\n",
    "\n",
    "Para esto, definiremos Pipelines. Un `Pipeline` es una lista de transformaciones y un estimador(clasificador) ubicado al final el cual define el flujo que seguiran nuestros datos dentro del sistema que creemos. Nos permite ejecutar facilmente el mismo proceso sobre todos los datasets que usemos, simplificando así nuestra programación.\n",
    "\n",
    "El pipeline más básico que podemos hacer es transformar el dataset a Bag of Words y después usar clasificar el BoW usando NaiveBayes:\n",
    "\n",
    "```python\n",
    "    Pipeline([('bow', CountVectorizer()), ('clf', MultinomialNB())])\n",
    "```\n",
    "\n",
    "\n",
    "Ahora, si queremos usar nuestra transformación para agregar las features que creamos, usaremos `FeatureUnion`. Esta simplemente concatenará los vectores resultantes de ejecutar BoW y los Transformer en un solo vector.\n",
    "\n",
    "```python\n",
    "    Pipeline([('features',FeatureUnion([('bow', CountVectorizer()),\n",
    "                                        ('chars_count',CharsCountTransformer())])),\n",
    "              ('clf', MultinomialNB())])\n",
    "\n",
    "```\n",
    "\n",
    "\n",
    "\n"
   ]
  },
  {
   "cell_type": "markdown",
   "metadata": {
    "colab_type": "text",
    "id": "K6zo8kmUXK2a"
   },
   "source": [
    "Recuerden que cada pipeline representa un sistema de clasificación distinto. Por lo mismo, deben instanciar uno por cada problema que resuelvan. De lo contrario, podrían solapar resultados.  Para esto, les recomendamos crear los pipeline en distintas funciones, como la siguiente:"
   ]
  },
  {
   "cell_type": "code",
   "execution_count": 168,
   "metadata": {},
   "outputs": [
    {
     "name": "stderr",
     "output_type": "stream",
     "text": [
      "/home/jouhui/anaconda3/lib/python3.7/site-packages/ipykernel_launcher.py:8: DeprecationWarning: Call to deprecated `wv` (Attribute will be removed in 4.0.0, use self instead).\n",
      "  \n"
     ]
    }
   ],
   "source": [
    "count = CountVectorizer(tokenizer=TweetTokenizer().tokenize,\n",
    "                ngram_range=(1, 4),\n",
    "                stop_words='english')\n",
    "\n",
    "tfidf = TfidfVectorizer(tokenizer=TweetTokenizer().tokenize,\n",
    "                        stop_words='english')\n",
    "\n",
    "chars_count = CharsCountTransformer()\n",
    "\n",
    "# doc2vec_mean = Doc2VecTransformer(glove_twitter, np.mean)\n",
    "# doc2vec_sum = Doc2VecTransformer(glove_twitter, np.sum, TweetTokenizer())\n",
    "doc2vec_max_remove_stop = Doc2VecTransformer(glove_twitter, np.max, TweetTokenizer(), remove_stopwords=True)\n",
    "doc2vec_max = Doc2VecTransformer(glove_twitter, np.max, TweetTokenizer())\n",
    "doc2vec_min_remove_stop = Doc2VecTransformer(glove_twitter, np.min, TweetTokenizer(), remove_stopwords=True)\n",
    "doc2vec_min = Doc2VecTransformer(glove_twitter, np.min, TweetTokenizer())\n",
    "\n",
    "doc2vec_max_stem = Doc2VecTransformer(glove_twitter, np.max, TweetTokenizer(), do_stem=True)\n",
    "doc2vec_max_lem = Doc2VecTransformer(glove_twitter, np.max, TweetTokenizer(), do_lemmatize=True)\n",
    "\n",
    "liu = LiuFeatureExtractor(tokenizer=TweetTokenizer())\n",
    "vader = VaderFeatureExtractor(tokenizer=TweetTokenizer())\n",
    "textblob = TextBlobTransformer()"
   ]
  },
  {
   "cell_type": "code",
   "execution_count": 196,
   "metadata": {
    "ExecuteTime": {
     "end_time": "2020-04-07T15:44:21.155528Z",
     "start_time": "2020-04-07T15:44:21.149545Z"
    },
    "colab": {},
    "colab_type": "code",
    "id": "F_qyFk1JXK2b"
   },
   "outputs": [],
   "source": [
    "def get_experiment_0_pipeline():\n",
    "    \"\"\"\n",
    "    CountVectorizer + CharsCountTransformer + NB\n",
    "    \"\"\"\n",
    "    return Pipeline([('features',\n",
    "                      FeatureUnion([('bow', CountVectorizer(ngram_range=(1, 4))),\n",
    "                                    ('chars_count', CharsCountTransformer())\n",
    "                                    ])), ('clf', MultinomialNB())])"
   ]
  },
  {
   "cell_type": "code",
   "execution_count": 197,
   "metadata": {
    "ExecuteTime": {
     "end_time": "2020-04-07T15:44:21.155528Z",
     "start_time": "2020-04-07T15:44:21.149545Z"
    },
    "colab": {},
    "colab_type": "code",
    "id": "F_qyFk1JXK2b"
   },
   "outputs": [],
   "source": [
    "def get_experiment_01_pipeline():\n",
    "    \"\"\"\n",
    "    CountVectorizer + CharsCountTransformer + NB\n",
    "    \"\"\"\n",
    "    return Pipeline([('features',\n",
    "                      FeatureUnion([('bow', count),\n",
    "                                    ('chars_count', chars_count)\n",
    "                                    ])), ('clf', LogisticRegression(solver='liblinear',multi_class='ovr'))])"
   ]
  },
  {
   "cell_type": "code",
   "execution_count": 198,
   "metadata": {
    "colab": {},
    "colab_type": "code",
    "id": "vnMg2nhyuQbJ"
   },
   "outputs": [],
   "source": [
    "def get_experiment_1_pipeline():\n",
    "    \"\"\"\n",
    "    CountVectorizer + TweetTokenizer + CharsCountTransformer + NB\n",
    "    \"\"\"\n",
    "    return Pipeline([('features',\n",
    "                      FeatureUnion([('bow', count),\n",
    "                                    ('chars_count', chars_count)\n",
    "                                    ])), ('clf', LogisticRegression(solver='liblinear',multi_class='ovr'))])"
   ]
  },
  {
   "cell_type": "code",
   "execution_count": 199,
   "metadata": {
    "colab": {},
    "colab_type": "code",
    "id": "vnMg2nhyuQbJ"
   },
   "outputs": [],
   "source": [
    "def get_experiment_2_pipeline():\n",
    "    \"\"\"\n",
    "    CountVectorizer + TweetTokenizer + NB\n",
    "    \"\"\"\n",
    "    return Pipeline([('features',\n",
    "                      FeatureUnion([('bow', count)])),\n",
    "                     ('clf', MLPClassifier(hidden_layer_sizes=(30)))])"
   ]
  },
  {
   "cell_type": "code",
   "execution_count": 200,
   "metadata": {
    "colab": {},
    "colab_type": "code",
    "id": "vnMg2nhyuQbJ"
   },
   "outputs": [],
   "source": [
    "def get_experiment_21_pipeline():\n",
    "    \"\"\"\n",
    "    CountVectorizer + TweetTokenizer + NB\n",
    "    \"\"\"\n",
    "    return Pipeline([('features',\n",
    "                      FeatureUnion([('bow', count)])),\n",
    "                     ('clf', LogisticRegression(solver='liblinear',multi_class='ovr'))])"
   ]
  },
  {
   "cell_type": "code",
   "execution_count": 201,
   "metadata": {
    "colab": {},
    "colab_type": "code",
    "id": "vnMg2nhyuQbJ"
   },
   "outputs": [],
   "source": [
    "def get_experiment_4_pipeline():\n",
    "    \"\"\"\n",
    "    TfidfVectorizer + TweetTokenizer + CharsCountTransformer + NB\n",
    "    \"\"\"\n",
    "    return Pipeline([('features',\n",
    "                      FeatureUnion([('tf-idf', tfidf),\n",
    "                                    ('chars_count', chars_count)])),\n",
    "                     ('clf', LogisticRegression(solver='liblinear',multi_class='ovr'))])"
   ]
  },
  {
   "cell_type": "code",
   "execution_count": 202,
   "metadata": {
    "colab": {},
    "colab_type": "code",
    "id": "vnMg2nhyuQbJ"
   },
   "outputs": [],
   "source": [
    "def get_experiment_5_pipeline():\n",
    "    \"\"\"\n",
    "    TfidfVectorizer + TweetTokenizer + Doc2Vec (removing stopwords) + SVM\n",
    "    \"\"\"\n",
    "    return Pipeline([('features',\n",
    "                      FeatureUnion([('tf-idf', tfidf),\n",
    "                                    ('doc2vec', doc2vec_max_remove_stop)])),\n",
    "                     ('clf', LogisticRegression(solver='liblinear',multi_class='ovr'))])"
   ]
  },
  {
   "cell_type": "code",
   "execution_count": 203,
   "metadata": {
    "colab": {},
    "colab_type": "code",
    "id": "vnMg2nhyuQbJ"
   },
   "outputs": [],
   "source": [
    "def get_experiment_6_pipeline():\n",
    "    \"\"\"\n",
    "    TfidfVectorizer + TweetTokenizer + Doc2Vec (without removing stopwords) + SVM\n",
    "    \"\"\"\n",
    "    return Pipeline([('features',\n",
    "                      FeatureUnion([('tf-idf', tfidf),\n",
    "                                    ('doc2vec', doc2vec_max)])),\n",
    "                     ('clf', LogisticRegression(solver='liblinear',multi_class='ovr'))])"
   ]
  },
  {
   "cell_type": "code",
   "execution_count": 204,
   "metadata": {
    "colab": {},
    "colab_type": "code",
    "id": "vnMg2nhyuQbJ"
   },
   "outputs": [],
   "source": [
    "def get_experiment_61_pipeline():\n",
    "    \"\"\"\n",
    "    TfidfVectorizer + TweetTokenizer + Doc2Vec (without removing stopwords) + SVM\n",
    "    \"\"\"\n",
    "    return Pipeline([('features',\n",
    "                      FeatureUnion([('tf-idf', tfidf),\n",
    "                                    ('doc2vecmax', doc2vec_max),\n",
    "                                    ('doc2vecmin', doc2vec_min)])),\n",
    "                     ('clf', LogisticRegression(solver='liblinear',multi_class='ovr'))])"
   ]
  },
  {
   "cell_type": "code",
   "execution_count": 205,
   "metadata": {
    "colab": {},
    "colab_type": "code",
    "id": "vnMg2nhyuQbJ"
   },
   "outputs": [],
   "source": [
    "def get_experiment_62_pipeline():\n",
    "    \"\"\"\n",
    "    TfidfVectorizer + TweetTokenizer + Doc2Vec (without removing stopwords) + SVM\n",
    "    \"\"\"\n",
    "    return Pipeline([('features',\n",
    "                      FeatureUnion([('tf-idf', tfidf),\n",
    "                                    ('doc2vecmax_stem', doc2vec_max_stem)])),\n",
    "                     ('clf', LogisticRegression(solver='liblinear',multi_class='ovr'))])"
   ]
  },
  {
   "cell_type": "code",
   "execution_count": 206,
   "metadata": {
    "colab": {},
    "colab_type": "code",
    "id": "vnMg2nhyuQbJ"
   },
   "outputs": [],
   "source": [
    "def get_experiment_63_pipeline():\n",
    "    \"\"\"\n",
    "    TfidfVectorizer + TweetTokenizer + Doc2Vec (without removing stopwords) + SVM\n",
    "    \"\"\"\n",
    "    return Pipeline([('features',\n",
    "                      FeatureUnion([('tf-idf', tfidf),\n",
    "                                    ('doc2vecmax_lem', doc2vec_max_lem)])),\n",
    "                     ('clf', LogisticRegression(solver='liblinear',multi_class='ovr'))])"
   ]
  },
  {
   "cell_type": "code",
   "execution_count": 207,
   "metadata": {},
   "outputs": [],
   "source": [
    "def get_experiment_7_pipeline():\n",
    "    \"\"\"\n",
    "    CountVectorizer + CharsCountTransformer +  LiuFeatureExtractor + VaderFeatureExtractor + SVM\n",
    "    \"\"\"\n",
    "    return Pipeline([('features',\n",
    "                      FeatureUnion([('bow', count),\n",
    "                                    ('chars_count', chars_count),\n",
    "                                    ('liu', liu),\n",
    "                                    ('vader', vader)\n",
    "                                    ])), ('clf', SVC(probability=True))])"
   ]
  },
  {
   "cell_type": "code",
   "execution_count": 208,
   "metadata": {},
   "outputs": [],
   "source": [
    "def get_experiment_71_pipeline():\n",
    "    \"\"\"\n",
    "    CountVectorizer + CharsCountTransformer +  LiuFeatureExtractor + VaderFeatureExtractor + SVM\n",
    "    \"\"\"\n",
    "    return Pipeline([('features',\n",
    "                      FeatureUnion([('bow', count),\n",
    "                                    ('chars_count', chars_count),\n",
    "                                    ('liu', liu),\n",
    "                                    ('vader', vader)\n",
    "                                    ])), ('clf', LogisticRegression(solver='liblinear',multi_class='ovr'))])"
   ]
  },
  {
   "cell_type": "code",
   "execution_count": 210,
   "metadata": {},
   "outputs": [],
   "source": [
    "def get_experiment_8_pipeline():\n",
    "    \"\"\"\n",
    "    CountVectorizer + CharsCountTransformer +  LiuFeatureExtractor + VaderFeatureExtractor + SVM\n",
    "    \"\"\"\n",
    "    return Pipeline([('features',\n",
    "                      FeatureUnion([('bow', count),\n",
    "                                    ('chars_count', chars_count),\n",
    "                                    ('liu', liu),\n",
    "                                    ('vader', vader),\n",
    "                                    ('textblob', textblob)\n",
    "                                    ])), ('clf', LogisticRegression(solver='liblinear',multi_class='ovr'))])"
   ]
  },
  {
   "cell_type": "code",
   "execution_count": 211,
   "metadata": {},
   "outputs": [],
   "source": [
    "def get_experiment_9_pipeline():\n",
    "    \"\"\"\n",
    "    CountVectorizer + CharsCountTransformer +  LiuFeatureExtractor + VaderFeatureExtractor + SVM\n",
    "    \"\"\"\n",
    "    return Pipeline([('features',\n",
    "                      FeatureUnion([('bow', count),\n",
    "                                    ('chars_count', chars_count),\n",
    "                                    ('doc2vecmax', doc2vec_max),\n",
    "                                    ('liu', liu),\n",
    "                                    ('vader', vader),\n",
    "                                    ('doc2vec', textblob)\n",
    "                                    ])), ('clf', LogisticRegression(solver='liblinear',multi_class='ovr'))])"
   ]
  },
  {
   "cell_type": "markdown",
   "metadata": {
    "colab_type": "text",
    "id": "zOQekJanXK2h"
   },
   "source": [
    "### Ejecutar el pipeline para algún dataset"
   ]
  },
  {
   "cell_type": "code",
   "execution_count": 152,
   "metadata": {},
   "outputs": [],
   "source": [
    "def over_sampling(X, y):\n",
    "    \"\"\"\n",
    "    Oversamplea unos datos\n",
    "    \"\"\"\n",
    "#     print(X)\n",
    "#     print(y)\n",
    "    X_over = []\n",
    "    y_over = []\n",
    "    \n",
    "    n_max = np.max([np.sum([y == c]) for c in np.unique(y)])\n",
    "#     print([np.sum([y == c]) for c in np.unique(y)])\n",
    "    \n",
    "    for c in np.unique(y):\n",
    "        n = n_max - np.sum([y == c])\n",
    "        if n == 0: continue\n",
    "        indices = np.where(y == c)[0]\n",
    "        arr_sampling = np.random.randint(low=0,\n",
    "                                         high=len(indices),\n",
    "                                         size=int(n / 2))\n",
    "        indices = np.array(indices[arr_sampling])\n",
    "        \n",
    "        X_over = np.concatenate([X_over, [X.iloc[i] for i in indices]])\n",
    "        y_over = np.concatenate([y_over, [y.iloc[i] for i in indices]])\n",
    "    \n",
    "    X_over = np.concatenate([X, X_over])\n",
    "    y_over = np.concatenate([y, y_over])\n",
    "    \n",
    "    \n",
    "#     print([np.sum([y_over == c]) for c in np.unique(y)])\n",
    "    \n",
    "    return X_over, y_over"
   ]
  },
  {
   "cell_type": "code",
   "execution_count": 153,
   "metadata": {
    "ExecuteTime": {
     "end_time": "2020-04-07T15:44:21.167498Z",
     "start_time": "2020-04-07T15:44:21.157540Z"
    },
    "colab": {},
    "colab_type": "code",
    "id": "V3gMwCchXK2i",
    "scrolled": true
   },
   "outputs": [],
   "source": [
    "def run(dataset, dataset_name, pipeline):\n",
    "    \"\"\"\n",
    "    Creamos el pipeline y luego lo ejecutamos el pipeline sobre un dataset. \n",
    "    Retorna el modelo ya entrenado mas sus labels asociadas y los scores obtenidos al evaluarlo.\n",
    "    \"\"\"\n",
    "\n",
    "    # Dividimos el dataset en train y test.\n",
    "    X_train, X_test, y_train, y_test = train_test_split(\n",
    "        dataset.tweet,\n",
    "        dataset.sentiment_intensity,\n",
    "        shuffle=True,\n",
    "        test_size=0.33)\n",
    "    \n",
    "    X_train, y_train = over_sampling(X_train, y_train)\n",
    "    \n",
    "    # Entrenamos el clasificador (Ejecuta el entrenamiento sobre todo el pipeline)\n",
    "    pipeline.fit(X_train, y_train)\n",
    "\n",
    "    # Predecimos las probabilidades de intensidad de cada elemento del set de prueba.\n",
    "    predicted_probabilities = pipeline.predict_proba(X_test)\n",
    "\n",
    "    # Obtenemos el orden de las clases aprendidas.\n",
    "    learned_labels = pipeline.classes_\n",
    "\n",
    "    # Evaluamos:\n",
    "    scores = evaluate(predicted_probabilities, y_test, learned_labels, dataset_name)\n",
    "    return pipeline, learned_labels, scores"
   ]
  },
  {
   "cell_type": "markdown",
   "metadata": {
    "colab_type": "text",
    "id": "jFZBa7emXK2l"
   },
   "source": [
    "### Ejecutar el sistema creado por cada train set\n",
    "\n",
    "Este código crea y entrena los 4 sistemas de clasificación y luego los evalua. Para los experimentos, pueden copiar este código variando el pipeline cuantas veces estimen conveniente."
   ]
  },
  {
   "cell_type": "code",
   "execution_count": 154,
   "metadata": {},
   "outputs": [],
   "source": [
    "def run_experiments(experiments):\n",
    "    for n, pipeline in enumerate(experiments):\n",
    "        classifiers = []\n",
    "        learned_labels_array = []\n",
    "        scores_array = []\n",
    "\n",
    "        # Por cada nombre_dataset, dataset en train ('anger', 'fear', 'joy', 'sadness')\n",
    "        for dataset_name, dataset in train.items():\n",
    "\n",
    "            # ejecutamos el pipeline sobre el dataset\n",
    "            classifier, learned_labels, scores = run(dataset, dataset_name, pipeline)\n",
    "\n",
    "            # guardamos el clasificador entrenado (en realidad es el pipeline ya entrenado...)\n",
    "            classifiers.append(classifier)\n",
    "\n",
    "            # guardamos las labels aprendidas por el clasificador\n",
    "            learned_labels_array.append(learned_labels)\n",
    "\n",
    "            # guardamos los scores obtenidos\n",
    "            scores_array.append(scores)\n",
    "\n",
    "        # print avg scores\n",
    "        print('Experiment', n,\n",
    "          \"Average scores:\\n\\n\",\n",
    "          \"Average AUC: {0:.3g}\\t Average Kappa: {1:.3g}\\t Average Accuracy: {2:.3g}\"\n",
    "          .format(*np.array(scores_array).mean(axis=0)))"
   ]
  },
  {
   "cell_type": "code",
   "execution_count": null,
   "metadata": {
    "ExecuteTime": {
     "end_time": "2020-04-07T15:44:21.384119Z",
     "start_time": "2020-04-07T15:44:21.170488Z"
    },
    "colab": {
     "base_uri": "https://localhost:8080/",
     "height": 1000
    },
    "colab_type": "code",
    "id": "GOIXPM_RXK2l",
    "outputId": "b3daaa37-d298-4c4a-d226-de08654bfb33",
    "scrolled": true
   },
   "outputs": [
    {
     "name": "stdout",
     "output_type": "stream",
     "text": [
      "Confusion Matrix for anger:\n",
      "\n",
      "[[  8  49   0]\n",
      " [ 10 172   9]\n",
      " [  2  45  16]]\n",
      "Scores:\n",
      "\n",
      "AUC:  0.633\tKappa: 0.172\tAccuracy: 0.63\n",
      "------------------------------------------------------\n",
      "\n",
      "Confusion Matrix for fear:\n",
      "\n",
      "[[ 18  74   3]\n",
      " [ 28 194  17]\n",
      " [  4  49  28]]\n",
      "Scores:\n",
      "\n",
      "AUC:  0.653\tKappa: 0.173\tAccuracy: 0.578\n",
      "------------------------------------------------------\n",
      "\n",
      "Confusion Matrix for joy:\n",
      "\n",
      "[[ 21  52   0]\n",
      " [ 20 123  15]\n",
      " [  1  37  29]]\n",
      "Scores:\n",
      "\n",
      "AUC:  0.714\tKappa: 0.244\tAccuracy: 0.581\n",
      "------------------------------------------------------\n",
      "\n",
      "Confusion Matrix for sadness:\n",
      "\n",
      "[[ 22  31   2]\n",
      " [ 25 111  22]\n",
      " [  1  44  26]]\n",
      "Scores:\n",
      "\n",
      "AUC:  0.651\tKappa: 0.212\tAccuracy: 0.56\n",
      "------------------------------------------------------\n",
      "\n",
      "Experiment 0 Average scores:\n",
      "\n",
      " Average AUC: 0.663\t Average Kappa: 0.2\t Average Accuracy: 0.587\n",
      "Confusion Matrix for anger:\n",
      "\n",
      "[[  5  44   0]\n",
      " [  7 192   8]\n",
      " [  0  43  12]]\n",
      "Scores:\n",
      "\n",
      "AUC:  0.609\tKappa: 0.149\tAccuracy: 0.672\n",
      "------------------------------------------------------\n",
      "\n",
      "Confusion Matrix for fear:\n",
      "\n",
      "[[ 30  57   0]\n",
      " [ 23 191  20]\n",
      " [  4  62  28]]\n",
      "Scores:\n",
      "\n",
      "AUC:  0.658\tKappa: 0.236\tAccuracy: 0.6\n",
      "------------------------------------------------------\n",
      "\n",
      "Confusion Matrix for joy:\n",
      "\n",
      "[[ 26  36   5]\n",
      " [ 27 133  11]\n",
      " [  2  27  31]]\n",
      "Scores:\n",
      "\n",
      "AUC:  0.722\tKappa: 0.34\tAccuracy: 0.638\n",
      "------------------------------------------------------\n",
      "\n",
      "Confusion Matrix for sadness:\n",
      "\n",
      "[[ 20  46   4]\n",
      " [ 15 123  13]\n",
      " [  3  33  27]]\n",
      "Scores:\n",
      "\n",
      "AUC:  0.695\tKappa: 0.276\tAccuracy: 0.599\n",
      "------------------------------------------------------\n",
      "\n",
      "Experiment 1 Average scores:\n",
      "\n",
      " Average AUC: 0.671\t Average Kappa: 0.25\t Average Accuracy: 0.627\n",
      "Confusion Matrix for anger:\n",
      "\n",
      "[[  9  39   0]\n",
      " [ 28 164  22]\n",
      " [  3  24  22]]\n",
      "Scores:\n",
      "\n",
      "AUC:  0.547\tKappa: 0.181\tAccuracy: 0.627\n",
      "------------------------------------------------------\n",
      "\n",
      "Confusion Matrix for fear:\n",
      "\n",
      "[[ 41  56   3]\n",
      " [ 43 156  31]\n",
      " [ 15  43  27]]\n",
      "Scores:\n",
      "\n",
      "AUC:  0.629\tKappa: 0.195\tAccuracy: 0.54\n",
      "------------------------------------------------------\n",
      "\n",
      "Confusion Matrix for joy:\n",
      "\n",
      "[[ 22  49   1]\n",
      " [ 20 136   4]\n",
      " [  3  43  20]]\n",
      "Scores:\n",
      "\n",
      "AUC:  0.708\tKappa: 0.246\tAccuracy: 0.597\n",
      "------------------------------------------------------\n",
      "\n",
      "Confusion Matrix for sadness:\n",
      "\n",
      "[[18 46  3]\n",
      " [34 98 28]\n",
      " [ 2 32 23]]\n",
      "Scores:\n",
      "\n",
      "AUC:  0.578\tKappa: 0.101\tAccuracy: 0.489\n",
      "------------------------------------------------------\n",
      "\n",
      "Experiment 2 Average scores:\n",
      "\n",
      " Average AUC: 0.616\t Average Kappa: 0.181\t Average Accuracy: 0.563\n",
      "Confusion Matrix for anger:\n",
      "\n",
      "[[  8  42   2]\n",
      " [ 20 172  18]\n",
      " [  2  35  12]]\n",
      "Scores:\n",
      "\n",
      "AUC:  0.588\tKappa: 0.104\tAccuracy: 0.617\n",
      "------------------------------------------------------\n",
      "\n",
      "Confusion Matrix for fear:\n",
      "\n",
      "[[ 32  64   4]\n",
      " [ 27 176  31]\n",
      " [  5  43  33]]\n",
      "Scores:\n",
      "\n",
      "AUC:  0.662\tKappa: 0.233\tAccuracy: 0.581\n",
      "------------------------------------------------------\n",
      "\n",
      "Confusion Matrix for joy:\n",
      "\n",
      "[[ 26  45   1]\n",
      " [ 27 113  20]\n",
      " [  6  26  34]]\n",
      "Scores:\n",
      "\n",
      "AUC:  0.705\tKappa: 0.277\tAccuracy: 0.581\n",
      "------------------------------------------------------\n",
      "\n",
      "Confusion Matrix for sadness:\n",
      "\n",
      "[[ 24  44   3]\n",
      " [ 14 117   9]\n",
      " [  4  48  21]]\n",
      "Scores:\n",
      "\n",
      "AUC:  0.705\tKappa: 0.247\tAccuracy: 0.57\n",
      "------------------------------------------------------\n",
      "\n",
      "Experiment 3 Average scores:\n",
      "\n",
      " Average AUC: 0.665\t Average Kappa: 0.215\t Average Accuracy: 0.587\n",
      "Confusion Matrix for anger:\n",
      "\n",
      "[[ 14  48   2]\n",
      " [  6 177  14]\n",
      " [  0  39  11]]\n",
      "Scores:\n",
      "\n",
      "AUC:  0.649\tKappa: 0.194\tAccuracy: 0.65\n",
      "------------------------------------------------------\n",
      "\n",
      "Confusion Matrix for fear:\n",
      "\n",
      "[[ 18  72   2]\n",
      " [ 25 186  18]\n",
      " [  2  58  34]]\n",
      "Scores:\n",
      "\n",
      "AUC:  0.661\tKappa: 0.19\tAccuracy: 0.573\n",
      "------------------------------------------------------\n",
      "\n",
      "Confusion Matrix for joy:\n",
      "\n",
      "[[ 33  47   5]\n",
      " [ 20 112  18]\n",
      " [  2  29  32]]\n",
      "Scores:\n",
      "\n",
      "AUC:  0.714\tKappa: 0.313\tAccuracy: 0.594\n",
      "------------------------------------------------------\n",
      "\n",
      "Confusion Matrix for sadness:\n",
      "\n",
      "[[ 26  41   0]\n",
      " [ 12 115  19]\n",
      " [  7  37  27]]\n",
      "Scores:\n",
      "\n",
      "AUC:  0.706\tKappa: 0.287\tAccuracy: 0.592\n",
      "------------------------------------------------------\n",
      "\n",
      "Experiment 4 Average scores:\n",
      "\n",
      " Average AUC: 0.682\t Average Kappa: 0.246\t Average Accuracy: 0.602\n",
      "Couldnt find any embedding for tweet:\n",
      "I think they may be \n",
      "I can't even right now #bb18 \n",
      "I think they may be \n",
      "Confusion Matrix for anger:\n",
      "\n",
      "[[ 15  34   0]\n",
      " [ 30 147  28]\n",
      " [  3  32  22]]\n",
      "Scores:\n",
      "\n",
      "AUC:  0.654\tKappa: 0.175\tAccuracy: 0.592\n",
      "------------------------------------------------------\n",
      "\n",
      "Couldnt find any embedding for tweet:\n",
      "And here we go again 😓 \n",
      "Couldnt find any embedding for tweet:\n",
      "That goes the \n",
      "Confusion Matrix for fear:\n",
      "\n",
      "[[ 45  45   5]\n",
      " [ 43 157  27]\n",
      " [  9  51  33]]\n",
      "Scores:\n",
      "\n",
      "AUC:  0.702\tKappa: 0.25\tAccuracy: 0.566\n",
      "------------------------------------------------------\n",
      "\n",
      "Confusion Matrix for joy:\n",
      "\n",
      "[[ 22  40   3]\n",
      " [ 37 107  26]\n",
      " [  2  29  32]]\n",
      "Scores:\n",
      "\n",
      "AUC:  0.66\tKappa: 0.201\tAccuracy: 0.54\n",
      "------------------------------------------------------\n",
      "\n",
      "Couldnt find any embedding for tweet:\n",
      "@chelseafc let them know it's the \n",
      "Confusion Matrix for sadness:\n",
      "\n",
      "[[23 43  5]\n",
      " [17 98 29]\n",
      " [ 6 36 27]]\n",
      "Scores:\n",
      "\n",
      "AUC:  0.662\tKappa: 0.19\tAccuracy: 0.521\n",
      "------------------------------------------------------\n",
      "\n",
      "Experiment 5 Average scores:\n",
      "\n",
      " Average AUC: 0.669\t Average Kappa: 0.204\t Average Accuracy: 0.555\n",
      "Confusion Matrix for anger:\n",
      "\n",
      "[[ 18  38   4]\n",
      " [ 20 144  28]\n",
      " [  0  34  25]]\n",
      "Scores:\n",
      "\n",
      "AUC:  0.662\tKappa: 0.223\tAccuracy: 0.601\n",
      "------------------------------------------------------\n",
      "\n",
      "Confusion Matrix for fear:\n",
      "\n",
      "[[ 32  54   9]\n",
      " [ 34 166  30]\n",
      " [  5  51  34]]\n",
      "Scores:\n",
      "\n",
      "AUC:  0.661\tKappa: 0.214\tAccuracy: 0.559\n",
      "------------------------------------------------------\n",
      "\n",
      "Confusion Matrix for joy:\n",
      "\n",
      "[[ 29  47   3]\n",
      " [ 21 100  33]\n",
      " [  4  23  38]]\n",
      "Scores:\n",
      "\n",
      "AUC:  0.721\tKappa: 0.271\tAccuracy: 0.56\n",
      "------------------------------------------------------\n",
      "\n",
      "Confusion Matrix for sadness:\n",
      "\n",
      "[[ 21  40   7]\n",
      " [ 27 105  25]\n",
      " [  5  30  24]]\n",
      "Scores:\n",
      "\n",
      "AUC:  0.653\tKappa: 0.178\tAccuracy: 0.528\n",
      "------------------------------------------------------\n",
      "\n",
      "Experiment 6 Average scores:\n",
      "\n",
      " Average AUC: 0.674\t Average Kappa: 0.221\t Average Accuracy: 0.562\n",
      "Confusion Matrix for anger:\n",
      "\n",
      "[[ 14  33   1]\n",
      " [ 21 158  28]\n",
      " [  1  36  19]]\n",
      "Scores:\n",
      "\n",
      "AUC:  0.619\tKappa: 0.176\tAccuracy: 0.614\n",
      "------------------------------------------------------\n",
      "\n",
      "Confusion Matrix for fear:\n",
      "\n",
      "[[ 37  52   8]\n",
      " [ 29 176  33]\n",
      " [  7  45  28]]\n",
      "Scores:\n",
      "\n",
      "AUC:  0.67\tKappa: 0.237\tAccuracy: 0.581\n",
      "------------------------------------------------------\n",
      "\n",
      "Confusion Matrix for joy:\n",
      "\n",
      "[[27 33  4]\n",
      " [46 98 25]\n",
      " [ 4 29 32]]\n",
      "Scores:\n",
      "\n",
      "AUC:  0.679\tKappa: 0.205\tAccuracy: 0.527\n",
      "------------------------------------------------------\n",
      "\n",
      "Confusion Matrix for sadness:\n",
      "\n",
      "[[25 38 10]\n",
      " [18 98 33]\n",
      " [ 4 24 34]]\n",
      "Scores:\n",
      "\n",
      "AUC:  0.66\tKappa: 0.258\tAccuracy: 0.553\n",
      "------------------------------------------------------\n",
      "\n",
      "Experiment 7 Average scores:\n",
      "\n",
      " Average AUC: 0.657\t Average Kappa: 0.219\t Average Accuracy: 0.569\n"
     ]
    }
   ],
   "source": [
    "experiments = [get_experiment_01_pipeline(),\n",
    "               get_experiment_1_pipeline(),\n",
    "               get_experiment_2_pipeline(),\n",
    "               get_experiment_3_pipeline(),\n",
    "               get_experiment_4_pipeline(),               \n",
    "               get_experiment_5_pipeline(),\n",
    "               get_experiment_6_pipeline(),\n",
    "               get_experiment_63_pipeline(),\n",
    "               get_experiment_71_pipeline(),\n",
    "               get_experiment_8_pipeline(),\n",
    "               get_experiment_9_pipeline()]\n",
    "# experiments = [get_experiment_6_pipeline(),\n",
    "#                get_experiment_63_pipeline()]\n",
    "\n",
    "# experiments = [get_experiment_8_pipeline()]\n",
    "\n",
    "run_experiments(experiments)"
   ]
  },
  {
   "cell_type": "markdown",
   "metadata": {
    "ExecuteTime": {
     "end_time": "2019-08-21T19:37:43.169737Z",
     "start_time": "2019-08-21T19:37:43.166744Z"
    },
    "colab_type": "text",
    "id": "Jp3JB-NYXK2q"
   },
   "source": [
    "### Predecir los target set y crear la submission\n",
    "\n",
    "Aquí predecimos los target set usando los clasificadores creados y creamos los archivos de las submissions."
   ]
  },
  {
   "cell_type": "code",
   "execution_count": null,
   "metadata": {
    "ExecuteTime": {
     "end_time": "2020-04-07T15:44:21.392097Z",
     "start_time": "2020-04-07T15:44:21.386114Z"
    },
    "colab": {},
    "colab_type": "code",
    "id": "ggKp_CXhXK2r"
   },
   "outputs": [],
   "source": [
    "def predict_target(dataset, classifier, labels):\n",
    "    # Predecir las probabilidades de intensidad de cada elemento del target set.\n",
    "    predicted = pd.DataFrame(classifier.predict_proba(dataset.tweet), columns=labels)\n",
    "    # Agregar ids\n",
    "    predicted['id'] = dataset.id.values\n",
    "    # Reordenar las columnas\n",
    "    predicted = predicted[['id', 'low', 'medium', 'high']]\n",
    "    return predicted"
   ]
  },
  {
   "cell_type": "code",
   "execution_count": null,
   "metadata": {
    "ExecuteTime": {
     "end_time": "2020-04-07T15:44:21.588573Z",
     "start_time": "2020-04-07T15:44:21.394094Z"
    },
    "colab": {},
    "colab_type": "code",
    "id": "GdvtcxN6XK2u",
    "scrolled": true
   },
   "outputs": [],
   "source": [
    "predicted_target = {}\n",
    "\n",
    "# Crear carpeta ./predictions\n",
    "if (not os.path.exists('./predictions')):\n",
    "    os.mkdir('./predictions')\n",
    "\n",
    "else:\n",
    "    # Eliminar predicciones anteriores:\n",
    "    shutil.rmtree('./predictions')\n",
    "    os.mkdir('./predictions')\n",
    "\n",
    "# por cada target set:\n",
    "for idx, key in enumerate(target):\n",
    "    # Predecirlo\n",
    "    print(classifiers[idx])\n",
    "    predicted_target[key] = predict_target(target[key], classifiers[idx],\n",
    "                                           learned_labels_array[idx])\n",
    "    # Guardar predicciones en archivos separados. \n",
    "    predicted_target[key].to_csv('./predictions/{}-pred.txt'.format(key),\n",
    "                                 sep='\\t',\n",
    "                                 header=False,\n",
    "                                 index=False)\n",
    "\n",
    "# Crear archivo zip\n",
    "a = shutil.make_archive('predictions', 'zip', './predictions')"
   ]
  },
  {
   "cell_type": "markdown",
   "metadata": {
    "colab_type": "text",
    "id": "8FJ3Ok3aXK2z"
   },
   "source": [
    "## 6. Conclusiones"
   ]
  },
  {
   "cell_type": "markdown",
   "metadata": {
    "colab_type": "text",
    "id": "Nm7IJKL3XK20"
   },
   "source": [
    "..."
   ]
  },
  {
   "cell_type": "code",
   "execution_count": null,
   "metadata": {
    "colab": {},
    "colab_type": "code",
    "id": "bxqiGgyMs3Ao"
   },
   "outputs": [],
   "source": []
  }
 ],
 "metadata": {
  "colab": {
   "include_colab_link": true,
   "name": "assignment_1.ipynb",
   "provenance": []
  },
  "kernelspec": {
   "display_name": "Python 3",
   "language": "python",
   "name": "python3"
  },
  "language_info": {
   "codemirror_mode": {
    "name": "ipython",
    "version": 3
   },
   "file_extension": ".py",
   "mimetype": "text/x-python",
   "name": "python",
   "nbconvert_exporter": "python",
   "pygments_lexer": "ipython3",
   "version": "3.7.3"
  },
  "toc": {
   "base_numbering": 1,
   "nav_menu": {},
   "number_sections": true,
   "sideBar": true,
   "skip_h1_title": true,
   "title_cell": "Table of Contents",
   "title_sidebar": "Contents",
   "toc_cell": true,
   "toc_position": {},
   "toc_section_display": true,
   "toc_window_display": false
  },
  "varInspector": {
   "cols": {
    "lenName": 16,
    "lenType": 16,
    "lenVar": 40
   },
   "kernels_config": {
    "python": {
     "delete_cmd_postfix": "",
     "delete_cmd_prefix": "del ",
     "library": "var_list.py",
     "varRefreshCmd": "print(var_dic_list())"
    },
    "r": {
     "delete_cmd_postfix": ") ",
     "delete_cmd_prefix": "rm(",
     "library": "var_list.r",
     "varRefreshCmd": "cat(var_dic_list()) "
    }
   },
   "types_to_exclude": [
    "module",
    "function",
    "builtin_function_or_method",
    "instance",
    "_Feature"
   ],
   "window_display": false
  }
 },
 "nbformat": 4,
 "nbformat_minor": 1
}
